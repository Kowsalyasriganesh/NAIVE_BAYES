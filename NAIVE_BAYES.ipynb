{
  "nbformat": 4,
  "nbformat_minor": 0,
  "metadata": {
    "colab": {
      "provenance": [],
      "include_colab_link": true
    },
    "kernelspec": {
      "name": "python3",
      "display_name": "Python 3"
    },
    "language_info": {
      "name": "python"
    }
  },
  "cells": [
    {
      "cell_type": "markdown",
      "metadata": {
        "id": "view-in-github",
        "colab_type": "text"
      },
      "source": [
        "<a href=\"https://colab.research.google.com/github/Kowsalyasriganesh/NAIVE_BAYES/blob/main/NAIVE_BAYES.ipynb\" target=\"_parent\"><img src=\"https://colab.research.google.com/assets/colab-badge.svg\" alt=\"Open In Colab\"/></a>"
      ]
    },
    {
      "cell_type": "code",
      "execution_count": null,
      "metadata": {
        "id": "fGStigozKyDO"
      },
      "outputs": [],
      "source": [
        "import numpy as np\n",
        "import pandas as pd\n",
        "import matplotlib.pyplot as plt\n",
        "import seaborn as sns\n",
        "from sklearn.model_selection import train_test_split\n",
        "from sklearn.preprocessing import StandardScaler\n",
        "from sklearn.metrics import confusion_matrix\n",
        "from sklearn.metrics import accuracy_score\n",
        "from sklearn.tree import DecisionTreeClassifier\n",
        "from sklearn.tree import export_graphviz\n",
        "import graphviz\n",
        "from sklearn.naive_bayes import GaussianNB"
      ]
    },
    {
      "cell_type": "code",
      "source": [
        "df = pd.read_csv(\"card_transdata.csv\")"
      ],
      "metadata": {
        "id": "ZaS6eCCjLAey"
      },
      "execution_count": null,
      "outputs": []
    },
    {
      "cell_type": "code",
      "source": [
        "df.head()"
      ],
      "metadata": {
        "colab": {
          "base_uri": "https://localhost:8080/",
          "height": 250
        },
        "id": "QpDzkULuLDsq",
        "outputId": "e329ee21-957f-4351-ed16-87ed5c175f21"
      },
      "execution_count": null,
      "outputs": [
        {
          "output_type": "execute_result",
          "data": {
            "text/plain": [
              "   distance_from_home  distance_from_last_transaction  \\\n",
              "0           57.877857                        0.311140   \n",
              "1           10.829943                        0.175592   \n",
              "2            5.091079                        0.805153   \n",
              "3            2.247564                        5.600044   \n",
              "4           44.190936                        0.566486   \n",
              "\n",
              "   ratio_to_median_purchase_price  repeat_retailer  used_chip  \\\n",
              "0                        1.945940              1.0        1.0   \n",
              "1                        1.294219              1.0        0.0   \n",
              "2                        0.427715              1.0        0.0   \n",
              "3                        0.362663              1.0        1.0   \n",
              "4                        2.222767              1.0        1.0   \n",
              "\n",
              "   used_pin_number  online_order  fraud  \n",
              "0              0.0           0.0    0.0  \n",
              "1              0.0           0.0    0.0  \n",
              "2              0.0           1.0    0.0  \n",
              "3              0.0           1.0    0.0  \n",
              "4              0.0           1.0    0.0  "
            ],
            "text/html": [
              "\n",
              "  <div id=\"df-a524a8f1-e504-4897-8108-9348981811c7\">\n",
              "    <div class=\"colab-df-container\">\n",
              "      <div>\n",
              "<style scoped>\n",
              "    .dataframe tbody tr th:only-of-type {\n",
              "        vertical-align: middle;\n",
              "    }\n",
              "\n",
              "    .dataframe tbody tr th {\n",
              "        vertical-align: top;\n",
              "    }\n",
              "\n",
              "    .dataframe thead th {\n",
              "        text-align: right;\n",
              "    }\n",
              "</style>\n",
              "<table border=\"1\" class=\"dataframe\">\n",
              "  <thead>\n",
              "    <tr style=\"text-align: right;\">\n",
              "      <th></th>\n",
              "      <th>distance_from_home</th>\n",
              "      <th>distance_from_last_transaction</th>\n",
              "      <th>ratio_to_median_purchase_price</th>\n",
              "      <th>repeat_retailer</th>\n",
              "      <th>used_chip</th>\n",
              "      <th>used_pin_number</th>\n",
              "      <th>online_order</th>\n",
              "      <th>fraud</th>\n",
              "    </tr>\n",
              "  </thead>\n",
              "  <tbody>\n",
              "    <tr>\n",
              "      <th>0</th>\n",
              "      <td>57.877857</td>\n",
              "      <td>0.311140</td>\n",
              "      <td>1.945940</td>\n",
              "      <td>1.0</td>\n",
              "      <td>1.0</td>\n",
              "      <td>0.0</td>\n",
              "      <td>0.0</td>\n",
              "      <td>0.0</td>\n",
              "    </tr>\n",
              "    <tr>\n",
              "      <th>1</th>\n",
              "      <td>10.829943</td>\n",
              "      <td>0.175592</td>\n",
              "      <td>1.294219</td>\n",
              "      <td>1.0</td>\n",
              "      <td>0.0</td>\n",
              "      <td>0.0</td>\n",
              "      <td>0.0</td>\n",
              "      <td>0.0</td>\n",
              "    </tr>\n",
              "    <tr>\n",
              "      <th>2</th>\n",
              "      <td>5.091079</td>\n",
              "      <td>0.805153</td>\n",
              "      <td>0.427715</td>\n",
              "      <td>1.0</td>\n",
              "      <td>0.0</td>\n",
              "      <td>0.0</td>\n",
              "      <td>1.0</td>\n",
              "      <td>0.0</td>\n",
              "    </tr>\n",
              "    <tr>\n",
              "      <th>3</th>\n",
              "      <td>2.247564</td>\n",
              "      <td>5.600044</td>\n",
              "      <td>0.362663</td>\n",
              "      <td>1.0</td>\n",
              "      <td>1.0</td>\n",
              "      <td>0.0</td>\n",
              "      <td>1.0</td>\n",
              "      <td>0.0</td>\n",
              "    </tr>\n",
              "    <tr>\n",
              "      <th>4</th>\n",
              "      <td>44.190936</td>\n",
              "      <td>0.566486</td>\n",
              "      <td>2.222767</td>\n",
              "      <td>1.0</td>\n",
              "      <td>1.0</td>\n",
              "      <td>0.0</td>\n",
              "      <td>1.0</td>\n",
              "      <td>0.0</td>\n",
              "    </tr>\n",
              "  </tbody>\n",
              "</table>\n",
              "</div>\n",
              "      <button class=\"colab-df-convert\" onclick=\"convertToInteractive('df-a524a8f1-e504-4897-8108-9348981811c7')\"\n",
              "              title=\"Convert this dataframe to an interactive table.\"\n",
              "              style=\"display:none;\">\n",
              "        \n",
              "  <svg xmlns=\"http://www.w3.org/2000/svg\" height=\"24px\"viewBox=\"0 0 24 24\"\n",
              "       width=\"24px\">\n",
              "    <path d=\"M0 0h24v24H0V0z\" fill=\"none\"/>\n",
              "    <path d=\"M18.56 5.44l.94 2.06.94-2.06 2.06-.94-2.06-.94-.94-2.06-.94 2.06-2.06.94zm-11 1L8.5 8.5l.94-2.06 2.06-.94-2.06-.94L8.5 2.5l-.94 2.06-2.06.94zm10 10l.94 2.06.94-2.06 2.06-.94-2.06-.94-.94-2.06-.94 2.06-2.06.94z\"/><path d=\"M17.41 7.96l-1.37-1.37c-.4-.4-.92-.59-1.43-.59-.52 0-1.04.2-1.43.59L10.3 9.45l-7.72 7.72c-.78.78-.78 2.05 0 2.83L4 21.41c.39.39.9.59 1.41.59.51 0 1.02-.2 1.41-.59l7.78-7.78 2.81-2.81c.8-.78.8-2.07 0-2.86zM5.41 20L4 18.59l7.72-7.72 1.47 1.35L5.41 20z\"/>\n",
              "  </svg>\n",
              "      </button>\n",
              "      \n",
              "  <style>\n",
              "    .colab-df-container {\n",
              "      display:flex;\n",
              "      flex-wrap:wrap;\n",
              "      gap: 12px;\n",
              "    }\n",
              "\n",
              "    .colab-df-convert {\n",
              "      background-color: #E8F0FE;\n",
              "      border: none;\n",
              "      border-radius: 50%;\n",
              "      cursor: pointer;\n",
              "      display: none;\n",
              "      fill: #1967D2;\n",
              "      height: 32px;\n",
              "      padding: 0 0 0 0;\n",
              "      width: 32px;\n",
              "    }\n",
              "\n",
              "    .colab-df-convert:hover {\n",
              "      background-color: #E2EBFA;\n",
              "      box-shadow: 0px 1px 2px rgba(60, 64, 67, 0.3), 0px 1px 3px 1px rgba(60, 64, 67, 0.15);\n",
              "      fill: #174EA6;\n",
              "    }\n",
              "\n",
              "    [theme=dark] .colab-df-convert {\n",
              "      background-color: #3B4455;\n",
              "      fill: #D2E3FC;\n",
              "    }\n",
              "\n",
              "    [theme=dark] .colab-df-convert:hover {\n",
              "      background-color: #434B5C;\n",
              "      box-shadow: 0px 1px 3px 1px rgba(0, 0, 0, 0.15);\n",
              "      filter: drop-shadow(0px 1px 2px rgba(0, 0, 0, 0.3));\n",
              "      fill: #FFFFFF;\n",
              "    }\n",
              "  </style>\n",
              "\n",
              "      <script>\n",
              "        const buttonEl =\n",
              "          document.querySelector('#df-a524a8f1-e504-4897-8108-9348981811c7 button.colab-df-convert');\n",
              "        buttonEl.style.display =\n",
              "          google.colab.kernel.accessAllowed ? 'block' : 'none';\n",
              "\n",
              "        async function convertToInteractive(key) {\n",
              "          const element = document.querySelector('#df-a524a8f1-e504-4897-8108-9348981811c7');\n",
              "          const dataTable =\n",
              "            await google.colab.kernel.invokeFunction('convertToInteractive',\n",
              "                                                     [key], {});\n",
              "          if (!dataTable) return;\n",
              "\n",
              "          const docLinkHtml = 'Like what you see? Visit the ' +\n",
              "            '<a target=\"_blank\" href=https://colab.research.google.com/notebooks/data_table.ipynb>data table notebook</a>'\n",
              "            + ' to learn more about interactive tables.';\n",
              "          element.innerHTML = '';\n",
              "          dataTable['output_type'] = 'display_data';\n",
              "          await google.colab.output.renderOutput(dataTable, element);\n",
              "          const docLink = document.createElement('div');\n",
              "          docLink.innerHTML = docLinkHtml;\n",
              "          element.appendChild(docLink);\n",
              "        }\n",
              "      </script>\n",
              "    </div>\n",
              "  </div>\n",
              "  "
            ]
          },
          "metadata": {},
          "execution_count": 50
        }
      ]
    },
    {
      "cell_type": "code",
      "source": [
        "df1= df.head(10000)"
      ],
      "metadata": {
        "id": "cMYBFk4YOa1O"
      },
      "execution_count": null,
      "outputs": []
    },
    {
      "cell_type": "code",
      "source": [
        "df1.info()"
      ],
      "metadata": {
        "colab": {
          "base_uri": "https://localhost:8080/"
        },
        "id": "_O03XUAyLGeK",
        "outputId": "7c8ca1cd-0e3e-4d29-b28a-627705631894"
      },
      "execution_count": null,
      "outputs": [
        {
          "output_type": "stream",
          "name": "stdout",
          "text": [
            "<class 'pandas.core.frame.DataFrame'>\n",
            "RangeIndex: 10000 entries, 0 to 9999\n",
            "Data columns (total 8 columns):\n",
            " #   Column                          Non-Null Count  Dtype  \n",
            "---  ------                          --------------  -----  \n",
            " 0   distance_from_home              10000 non-null  float64\n",
            " 1   distance_from_last_transaction  10000 non-null  float64\n",
            " 2   ratio_to_median_purchase_price  10000 non-null  float64\n",
            " 3   repeat_retailer                 10000 non-null  float64\n",
            " 4   used_chip                       10000 non-null  float64\n",
            " 5   used_pin_number                 10000 non-null  float64\n",
            " 6   online_order                    10000 non-null  float64\n",
            " 7   fraud                           10000 non-null  float64\n",
            "dtypes: float64(8)\n",
            "memory usage: 625.1 KB\n"
          ]
        }
      ]
    },
    {
      "cell_type": "code",
      "source": [
        "df1.shape"
      ],
      "metadata": {
        "colab": {
          "base_uri": "https://localhost:8080/"
        },
        "id": "h0HuhI1ZLJbC",
        "outputId": "b7974c14-b42d-461b-9dab-e6ce2345bf97"
      },
      "execution_count": null,
      "outputs": [
        {
          "output_type": "execute_result",
          "data": {
            "text/plain": [
              "(10000, 8)"
            ]
          },
          "metadata": {},
          "execution_count": 53
        }
      ]
    },
    {
      "cell_type": "code",
      "source": [
        "df1.describe()"
      ],
      "metadata": {
        "colab": {
          "base_uri": "https://localhost:8080/",
          "height": 364
        },
        "id": "7X-KgYg8LN-S",
        "outputId": "f33601b3-0fb8-4c38-fcab-0611b3f82da2"
      },
      "execution_count": null,
      "outputs": [
        {
          "output_type": "execute_result",
          "data": {
            "text/plain": [
              "       distance_from_home  distance_from_last_transaction  \\\n",
              "count        10000.000000                    10000.000000   \n",
              "mean            26.374744                        4.807107   \n",
              "std             58.811106                       22.260124   \n",
              "min              0.049270                        0.000930   \n",
              "25%              3.808606                        0.305219   \n",
              "50%             10.026888                        1.006459   \n",
              "75%             25.866217                        3.313696   \n",
              "max           2033.498174                      990.070315   \n",
              "\n",
              "       ratio_to_median_purchase_price  repeat_retailer     used_chip  \\\n",
              "count                    10000.000000     10000.000000  10000.000000   \n",
              "mean                         1.824164         0.879000      0.350800   \n",
              "std                          2.762438         0.326144      0.477244   \n",
              "min                          0.011373         0.000000      0.000000   \n",
              "25%                          0.489052         1.000000      0.000000   \n",
              "50%                          1.005754         1.000000      0.000000   \n",
              "75%                          2.091252         1.000000      1.000000   \n",
              "max                         65.150879         1.000000      1.000000   \n",
              "\n",
              "       used_pin_number  online_order         fraud  \n",
              "count     10000.000000  10000.000000  10000.000000  \n",
              "mean          0.104800      0.641500      0.084100  \n",
              "std           0.306311      0.479584      0.277552  \n",
              "min           0.000000      0.000000      0.000000  \n",
              "25%           0.000000      0.000000      0.000000  \n",
              "50%           0.000000      1.000000      0.000000  \n",
              "75%           0.000000      1.000000      0.000000  \n",
              "max           1.000000      1.000000      1.000000  "
            ],
            "text/html": [
              "\n",
              "  <div id=\"df-1559ffdf-fc42-41df-8811-157f61bcb5b2\">\n",
              "    <div class=\"colab-df-container\">\n",
              "      <div>\n",
              "<style scoped>\n",
              "    .dataframe tbody tr th:only-of-type {\n",
              "        vertical-align: middle;\n",
              "    }\n",
              "\n",
              "    .dataframe tbody tr th {\n",
              "        vertical-align: top;\n",
              "    }\n",
              "\n",
              "    .dataframe thead th {\n",
              "        text-align: right;\n",
              "    }\n",
              "</style>\n",
              "<table border=\"1\" class=\"dataframe\">\n",
              "  <thead>\n",
              "    <tr style=\"text-align: right;\">\n",
              "      <th></th>\n",
              "      <th>distance_from_home</th>\n",
              "      <th>distance_from_last_transaction</th>\n",
              "      <th>ratio_to_median_purchase_price</th>\n",
              "      <th>repeat_retailer</th>\n",
              "      <th>used_chip</th>\n",
              "      <th>used_pin_number</th>\n",
              "      <th>online_order</th>\n",
              "      <th>fraud</th>\n",
              "    </tr>\n",
              "  </thead>\n",
              "  <tbody>\n",
              "    <tr>\n",
              "      <th>count</th>\n",
              "      <td>10000.000000</td>\n",
              "      <td>10000.000000</td>\n",
              "      <td>10000.000000</td>\n",
              "      <td>10000.000000</td>\n",
              "      <td>10000.000000</td>\n",
              "      <td>10000.000000</td>\n",
              "      <td>10000.000000</td>\n",
              "      <td>10000.000000</td>\n",
              "    </tr>\n",
              "    <tr>\n",
              "      <th>mean</th>\n",
              "      <td>26.374744</td>\n",
              "      <td>4.807107</td>\n",
              "      <td>1.824164</td>\n",
              "      <td>0.879000</td>\n",
              "      <td>0.350800</td>\n",
              "      <td>0.104800</td>\n",
              "      <td>0.641500</td>\n",
              "      <td>0.084100</td>\n",
              "    </tr>\n",
              "    <tr>\n",
              "      <th>std</th>\n",
              "      <td>58.811106</td>\n",
              "      <td>22.260124</td>\n",
              "      <td>2.762438</td>\n",
              "      <td>0.326144</td>\n",
              "      <td>0.477244</td>\n",
              "      <td>0.306311</td>\n",
              "      <td>0.479584</td>\n",
              "      <td>0.277552</td>\n",
              "    </tr>\n",
              "    <tr>\n",
              "      <th>min</th>\n",
              "      <td>0.049270</td>\n",
              "      <td>0.000930</td>\n",
              "      <td>0.011373</td>\n",
              "      <td>0.000000</td>\n",
              "      <td>0.000000</td>\n",
              "      <td>0.000000</td>\n",
              "      <td>0.000000</td>\n",
              "      <td>0.000000</td>\n",
              "    </tr>\n",
              "    <tr>\n",
              "      <th>25%</th>\n",
              "      <td>3.808606</td>\n",
              "      <td>0.305219</td>\n",
              "      <td>0.489052</td>\n",
              "      <td>1.000000</td>\n",
              "      <td>0.000000</td>\n",
              "      <td>0.000000</td>\n",
              "      <td>0.000000</td>\n",
              "      <td>0.000000</td>\n",
              "    </tr>\n",
              "    <tr>\n",
              "      <th>50%</th>\n",
              "      <td>10.026888</td>\n",
              "      <td>1.006459</td>\n",
              "      <td>1.005754</td>\n",
              "      <td>1.000000</td>\n",
              "      <td>0.000000</td>\n",
              "      <td>0.000000</td>\n",
              "      <td>1.000000</td>\n",
              "      <td>0.000000</td>\n",
              "    </tr>\n",
              "    <tr>\n",
              "      <th>75%</th>\n",
              "      <td>25.866217</td>\n",
              "      <td>3.313696</td>\n",
              "      <td>2.091252</td>\n",
              "      <td>1.000000</td>\n",
              "      <td>1.000000</td>\n",
              "      <td>0.000000</td>\n",
              "      <td>1.000000</td>\n",
              "      <td>0.000000</td>\n",
              "    </tr>\n",
              "    <tr>\n",
              "      <th>max</th>\n",
              "      <td>2033.498174</td>\n",
              "      <td>990.070315</td>\n",
              "      <td>65.150879</td>\n",
              "      <td>1.000000</td>\n",
              "      <td>1.000000</td>\n",
              "      <td>1.000000</td>\n",
              "      <td>1.000000</td>\n",
              "      <td>1.000000</td>\n",
              "    </tr>\n",
              "  </tbody>\n",
              "</table>\n",
              "</div>\n",
              "      <button class=\"colab-df-convert\" onclick=\"convertToInteractive('df-1559ffdf-fc42-41df-8811-157f61bcb5b2')\"\n",
              "              title=\"Convert this dataframe to an interactive table.\"\n",
              "              style=\"display:none;\">\n",
              "        \n",
              "  <svg xmlns=\"http://www.w3.org/2000/svg\" height=\"24px\"viewBox=\"0 0 24 24\"\n",
              "       width=\"24px\">\n",
              "    <path d=\"M0 0h24v24H0V0z\" fill=\"none\"/>\n",
              "    <path d=\"M18.56 5.44l.94 2.06.94-2.06 2.06-.94-2.06-.94-.94-2.06-.94 2.06-2.06.94zm-11 1L8.5 8.5l.94-2.06 2.06-.94-2.06-.94L8.5 2.5l-.94 2.06-2.06.94zm10 10l.94 2.06.94-2.06 2.06-.94-2.06-.94-.94-2.06-.94 2.06-2.06.94z\"/><path d=\"M17.41 7.96l-1.37-1.37c-.4-.4-.92-.59-1.43-.59-.52 0-1.04.2-1.43.59L10.3 9.45l-7.72 7.72c-.78.78-.78 2.05 0 2.83L4 21.41c.39.39.9.59 1.41.59.51 0 1.02-.2 1.41-.59l7.78-7.78 2.81-2.81c.8-.78.8-2.07 0-2.86zM5.41 20L4 18.59l7.72-7.72 1.47 1.35L5.41 20z\"/>\n",
              "  </svg>\n",
              "      </button>\n",
              "      \n",
              "  <style>\n",
              "    .colab-df-container {\n",
              "      display:flex;\n",
              "      flex-wrap:wrap;\n",
              "      gap: 12px;\n",
              "    }\n",
              "\n",
              "    .colab-df-convert {\n",
              "      background-color: #E8F0FE;\n",
              "      border: none;\n",
              "      border-radius: 50%;\n",
              "      cursor: pointer;\n",
              "      display: none;\n",
              "      fill: #1967D2;\n",
              "      height: 32px;\n",
              "      padding: 0 0 0 0;\n",
              "      width: 32px;\n",
              "    }\n",
              "\n",
              "    .colab-df-convert:hover {\n",
              "      background-color: #E2EBFA;\n",
              "      box-shadow: 0px 1px 2px rgba(60, 64, 67, 0.3), 0px 1px 3px 1px rgba(60, 64, 67, 0.15);\n",
              "      fill: #174EA6;\n",
              "    }\n",
              "\n",
              "    [theme=dark] .colab-df-convert {\n",
              "      background-color: #3B4455;\n",
              "      fill: #D2E3FC;\n",
              "    }\n",
              "\n",
              "    [theme=dark] .colab-df-convert:hover {\n",
              "      background-color: #434B5C;\n",
              "      box-shadow: 0px 1px 3px 1px rgba(0, 0, 0, 0.15);\n",
              "      filter: drop-shadow(0px 1px 2px rgba(0, 0, 0, 0.3));\n",
              "      fill: #FFFFFF;\n",
              "    }\n",
              "  </style>\n",
              "\n",
              "      <script>\n",
              "        const buttonEl =\n",
              "          document.querySelector('#df-1559ffdf-fc42-41df-8811-157f61bcb5b2 button.colab-df-convert');\n",
              "        buttonEl.style.display =\n",
              "          google.colab.kernel.accessAllowed ? 'block' : 'none';\n",
              "\n",
              "        async function convertToInteractive(key) {\n",
              "          const element = document.querySelector('#df-1559ffdf-fc42-41df-8811-157f61bcb5b2');\n",
              "          const dataTable =\n",
              "            await google.colab.kernel.invokeFunction('convertToInteractive',\n",
              "                                                     [key], {});\n",
              "          if (!dataTable) return;\n",
              "\n",
              "          const docLinkHtml = 'Like what you see? Visit the ' +\n",
              "            '<a target=\"_blank\" href=https://colab.research.google.com/notebooks/data_table.ipynb>data table notebook</a>'\n",
              "            + ' to learn more about interactive tables.';\n",
              "          element.innerHTML = '';\n",
              "          dataTable['output_type'] = 'display_data';\n",
              "          await google.colab.output.renderOutput(dataTable, element);\n",
              "          const docLink = document.createElement('div');\n",
              "          docLink.innerHTML = docLinkHtml;\n",
              "          element.appendChild(docLink);\n",
              "        }\n",
              "      </script>\n",
              "    </div>\n",
              "  </div>\n",
              "  "
            ]
          },
          "metadata": {},
          "execution_count": 54
        }
      ]
    },
    {
      "cell_type": "code",
      "source": [
        "df1.tail()"
      ],
      "metadata": {
        "colab": {
          "base_uri": "https://localhost:8080/",
          "height": 270
        },
        "id": "lZyZX215LR55",
        "outputId": "f54cc3d2-1d9b-41d5-a645-7eb30f2488c3"
      },
      "execution_count": null,
      "outputs": [
        {
          "output_type": "execute_result",
          "data": {
            "text/plain": [
              "      distance_from_home  distance_from_last_transaction  \\\n",
              "9995            4.225100                        2.678220   \n",
              "9996            3.614858                        0.431593   \n",
              "9997           10.131863                       10.262508   \n",
              "9998           16.306236                        0.014054   \n",
              "9999            1.292596                        0.415847   \n",
              "\n",
              "      ratio_to_median_purchase_price  repeat_retailer  used_chip  \\\n",
              "9995                        0.556858              1.0        0.0   \n",
              "9996                        0.061778              1.0        0.0   \n",
              "9997                        2.818090              1.0        0.0   \n",
              "9998                        1.904495              1.0        0.0   \n",
              "9999                        1.332285              0.0        1.0   \n",
              "\n",
              "      used_pin_number  online_order  fraud  \n",
              "9995              0.0           1.0    0.0  \n",
              "9996              0.0           1.0    0.0  \n",
              "9997              0.0           1.0    0.0  \n",
              "9998              0.0           1.0    0.0  \n",
              "9999              0.0           1.0    0.0  "
            ],
            "text/html": [
              "\n",
              "  <div id=\"df-163cfa7c-94ed-410c-9a13-95b884dbaba0\">\n",
              "    <div class=\"colab-df-container\">\n",
              "      <div>\n",
              "<style scoped>\n",
              "    .dataframe tbody tr th:only-of-type {\n",
              "        vertical-align: middle;\n",
              "    }\n",
              "\n",
              "    .dataframe tbody tr th {\n",
              "        vertical-align: top;\n",
              "    }\n",
              "\n",
              "    .dataframe thead th {\n",
              "        text-align: right;\n",
              "    }\n",
              "</style>\n",
              "<table border=\"1\" class=\"dataframe\">\n",
              "  <thead>\n",
              "    <tr style=\"text-align: right;\">\n",
              "      <th></th>\n",
              "      <th>distance_from_home</th>\n",
              "      <th>distance_from_last_transaction</th>\n",
              "      <th>ratio_to_median_purchase_price</th>\n",
              "      <th>repeat_retailer</th>\n",
              "      <th>used_chip</th>\n",
              "      <th>used_pin_number</th>\n",
              "      <th>online_order</th>\n",
              "      <th>fraud</th>\n",
              "    </tr>\n",
              "  </thead>\n",
              "  <tbody>\n",
              "    <tr>\n",
              "      <th>9995</th>\n",
              "      <td>4.225100</td>\n",
              "      <td>2.678220</td>\n",
              "      <td>0.556858</td>\n",
              "      <td>1.0</td>\n",
              "      <td>0.0</td>\n",
              "      <td>0.0</td>\n",
              "      <td>1.0</td>\n",
              "      <td>0.0</td>\n",
              "    </tr>\n",
              "    <tr>\n",
              "      <th>9996</th>\n",
              "      <td>3.614858</td>\n",
              "      <td>0.431593</td>\n",
              "      <td>0.061778</td>\n",
              "      <td>1.0</td>\n",
              "      <td>0.0</td>\n",
              "      <td>0.0</td>\n",
              "      <td>1.0</td>\n",
              "      <td>0.0</td>\n",
              "    </tr>\n",
              "    <tr>\n",
              "      <th>9997</th>\n",
              "      <td>10.131863</td>\n",
              "      <td>10.262508</td>\n",
              "      <td>2.818090</td>\n",
              "      <td>1.0</td>\n",
              "      <td>0.0</td>\n",
              "      <td>0.0</td>\n",
              "      <td>1.0</td>\n",
              "      <td>0.0</td>\n",
              "    </tr>\n",
              "    <tr>\n",
              "      <th>9998</th>\n",
              "      <td>16.306236</td>\n",
              "      <td>0.014054</td>\n",
              "      <td>1.904495</td>\n",
              "      <td>1.0</td>\n",
              "      <td>0.0</td>\n",
              "      <td>0.0</td>\n",
              "      <td>1.0</td>\n",
              "      <td>0.0</td>\n",
              "    </tr>\n",
              "    <tr>\n",
              "      <th>9999</th>\n",
              "      <td>1.292596</td>\n",
              "      <td>0.415847</td>\n",
              "      <td>1.332285</td>\n",
              "      <td>0.0</td>\n",
              "      <td>1.0</td>\n",
              "      <td>0.0</td>\n",
              "      <td>1.0</td>\n",
              "      <td>0.0</td>\n",
              "    </tr>\n",
              "  </tbody>\n",
              "</table>\n",
              "</div>\n",
              "      <button class=\"colab-df-convert\" onclick=\"convertToInteractive('df-163cfa7c-94ed-410c-9a13-95b884dbaba0')\"\n",
              "              title=\"Convert this dataframe to an interactive table.\"\n",
              "              style=\"display:none;\">\n",
              "        \n",
              "  <svg xmlns=\"http://www.w3.org/2000/svg\" height=\"24px\"viewBox=\"0 0 24 24\"\n",
              "       width=\"24px\">\n",
              "    <path d=\"M0 0h24v24H0V0z\" fill=\"none\"/>\n",
              "    <path d=\"M18.56 5.44l.94 2.06.94-2.06 2.06-.94-2.06-.94-.94-2.06-.94 2.06-2.06.94zm-11 1L8.5 8.5l.94-2.06 2.06-.94-2.06-.94L8.5 2.5l-.94 2.06-2.06.94zm10 10l.94 2.06.94-2.06 2.06-.94-2.06-.94-.94-2.06-.94 2.06-2.06.94z\"/><path d=\"M17.41 7.96l-1.37-1.37c-.4-.4-.92-.59-1.43-.59-.52 0-1.04.2-1.43.59L10.3 9.45l-7.72 7.72c-.78.78-.78 2.05 0 2.83L4 21.41c.39.39.9.59 1.41.59.51 0 1.02-.2 1.41-.59l7.78-7.78 2.81-2.81c.8-.78.8-2.07 0-2.86zM5.41 20L4 18.59l7.72-7.72 1.47 1.35L5.41 20z\"/>\n",
              "  </svg>\n",
              "      </button>\n",
              "      \n",
              "  <style>\n",
              "    .colab-df-container {\n",
              "      display:flex;\n",
              "      flex-wrap:wrap;\n",
              "      gap: 12px;\n",
              "    }\n",
              "\n",
              "    .colab-df-convert {\n",
              "      background-color: #E8F0FE;\n",
              "      border: none;\n",
              "      border-radius: 50%;\n",
              "      cursor: pointer;\n",
              "      display: none;\n",
              "      fill: #1967D2;\n",
              "      height: 32px;\n",
              "      padding: 0 0 0 0;\n",
              "      width: 32px;\n",
              "    }\n",
              "\n",
              "    .colab-df-convert:hover {\n",
              "      background-color: #E2EBFA;\n",
              "      box-shadow: 0px 1px 2px rgba(60, 64, 67, 0.3), 0px 1px 3px 1px rgba(60, 64, 67, 0.15);\n",
              "      fill: #174EA6;\n",
              "    }\n",
              "\n",
              "    [theme=dark] .colab-df-convert {\n",
              "      background-color: #3B4455;\n",
              "      fill: #D2E3FC;\n",
              "    }\n",
              "\n",
              "    [theme=dark] .colab-df-convert:hover {\n",
              "      background-color: #434B5C;\n",
              "      box-shadow: 0px 1px 3px 1px rgba(0, 0, 0, 0.15);\n",
              "      filter: drop-shadow(0px 1px 2px rgba(0, 0, 0, 0.3));\n",
              "      fill: #FFFFFF;\n",
              "    }\n",
              "  </style>\n",
              "\n",
              "      <script>\n",
              "        const buttonEl =\n",
              "          document.querySelector('#df-163cfa7c-94ed-410c-9a13-95b884dbaba0 button.colab-df-convert');\n",
              "        buttonEl.style.display =\n",
              "          google.colab.kernel.accessAllowed ? 'block' : 'none';\n",
              "\n",
              "        async function convertToInteractive(key) {\n",
              "          const element = document.querySelector('#df-163cfa7c-94ed-410c-9a13-95b884dbaba0');\n",
              "          const dataTable =\n",
              "            await google.colab.kernel.invokeFunction('convertToInteractive',\n",
              "                                                     [key], {});\n",
              "          if (!dataTable) return;\n",
              "\n",
              "          const docLinkHtml = 'Like what you see? Visit the ' +\n",
              "            '<a target=\"_blank\" href=https://colab.research.google.com/notebooks/data_table.ipynb>data table notebook</a>'\n",
              "            + ' to learn more about interactive tables.';\n",
              "          element.innerHTML = '';\n",
              "          dataTable['output_type'] = 'display_data';\n",
              "          await google.colab.output.renderOutput(dataTable, element);\n",
              "          const docLink = document.createElement('div');\n",
              "          docLink.innerHTML = docLinkHtml;\n",
              "          element.appendChild(docLink);\n",
              "        }\n",
              "      </script>\n",
              "    </div>\n",
              "  </div>\n",
              "  "
            ]
          },
          "metadata": {},
          "execution_count": 55
        }
      ]
    },
    {
      "cell_type": "code",
      "source": [
        "df1.nunique()"
      ],
      "metadata": {
        "colab": {
          "base_uri": "https://localhost:8080/"
        },
        "id": "meomHSKELUcB",
        "outputId": "d1da65bd-abbb-442d-d14d-e669a113124f"
      },
      "execution_count": null,
      "outputs": [
        {
          "output_type": "execute_result",
          "data": {
            "text/plain": [
              "distance_from_home                10000\n",
              "distance_from_last_transaction    10000\n",
              "ratio_to_median_purchase_price    10000\n",
              "repeat_retailer                       2\n",
              "used_chip                             2\n",
              "used_pin_number                       2\n",
              "online_order                          2\n",
              "fraud                                 2\n",
              "dtype: int64"
            ]
          },
          "metadata": {},
          "execution_count": 56
        }
      ]
    },
    {
      "cell_type": "code",
      "source": [
        "df1.plot()"
      ],
      "metadata": {
        "colab": {
          "base_uri": "https://localhost:8080/",
          "height": 282
        },
        "id": "jy-6bIyuLaOY",
        "outputId": "6972991c-22a9-4631-8d98-4328b959ce7f"
      },
      "execution_count": null,
      "outputs": [
        {
          "output_type": "execute_result",
          "data": {
            "text/plain": [
              "<matplotlib.axes._subplots.AxesSubplot at 0x7f1b6b7bad30>"
            ]
          },
          "metadata": {},
          "execution_count": 57
        },
        {
          "output_type": "display_data",
          "data": {
            "text/plain": [
              "<Figure size 432x288 with 1 Axes>"
            ],
            "image/png": "[encoded data removed]"
          },
          "metadata": {
            "needs_background": "light"
          }
        }
      ]
    },
    {
      "cell_type": "code",
      "source": [
        "df1.isna().sum()"
      ],
      "metadata": {
        "colab": {
          "base_uri": "https://localhost:8080/"
        },
        "id": "olmMJ14KLXEB",
        "outputId": "01d53420-a02a-4a56-b09d-2c044a854850"
      },
      "execution_count": null,
      "outputs": [
        {
          "output_type": "execute_result",
          "data": {
            "text/plain": [
              "distance_from_home                0\n",
              "distance_from_last_transaction    0\n",
              "ratio_to_median_purchase_price    0\n",
              "repeat_retailer                   0\n",
              "used_chip                         0\n",
              "used_pin_number                   0\n",
              "online_order                      0\n",
              "fraud                             0\n",
              "dtype: int64"
            ]
          },
          "metadata": {},
          "execution_count": 58
        }
      ]
    },
    {
      "cell_type": "code",
      "source": [
        "x = df1.drop('fraud', axis= 1)\n",
        "y = df1['fraud']\n",
        "plt.figure(figsize = (20,15))\n",
        "plotnumber = 1\n",
        "for col in x.columns:\n",
        "    if plotnumber <= 7:\n",
        "        ax = plt.subplot (3, 3, plotnumber)\n",
        "        sns.boxplot(x[col])\n",
        "        plt.xlabel(col, fontsize = 20)\n",
        "    plotnumber += 1\n",
        "plt.tight_layout()\n",
        "plt.show()"
      ],
      "metadata": {
        "colab": {
          "base_uri": "https://localhost:8080/",
          "height": 1000
        },
        "id": "1rr5ZmzILc1Q",
        "outputId": "c2b5afba-7079-4624-935c-fa8026fde73d"
      },
      "execution_count": null,
      "outputs": [
        {
          "output_type": "stream",
          "name": "stderr",
          "text": [
            "/usr/local/lib/python3.8/dist-packages/seaborn/_decorators.py:36: FutureWarning: Pass the following variable as a keyword arg: x. From version 0.12, the only valid positional argument will be `data`, and passing other arguments without an explicit keyword will result in an error or misinterpretation.\n",
            "  warnings.warn(\n",
            "/usr/local/lib/python3.8/dist-packages/seaborn/_decorators.py:36: FutureWarning: Pass the following variable as a keyword arg: x. From version 0.12, the only valid positional argument will be `data`, and passing other arguments without an explicit keyword will result in an error or misinterpretation.\n",
            "  warnings.warn(\n",
            "/usr/local/lib/python3.8/dist-packages/seaborn/_decorators.py:36: FutureWarning: Pass the following variable as a keyword arg: x. From version 0.12, the only valid positional argument will be `data`, and passing other arguments without an explicit keyword will result in an error or misinterpretation.\n",
            "  warnings.warn(\n",
            "/usr/local/lib/python3.8/dist-packages/seaborn/_decorators.py:36: FutureWarning: Pass the following variable as a keyword arg: x. From version 0.12, the only valid positional argument will be `data`, and passing other arguments without an explicit keyword will result in an error or misinterpretation.\n",
            "  warnings.warn(\n",
            "/usr/local/lib/python3.8/dist-packages/seaborn/_decorators.py:36: FutureWarning: Pass the following variable as a keyword arg: x. From version 0.12, the only valid positional argument will be `data`, and passing other arguments without an explicit keyword will result in an error or misinterpretation.\n",
            "  warnings.warn(\n",
            "/usr/local/lib/python3.8/dist-packages/seaborn/_decorators.py:36: FutureWarning: Pass the following variable as a keyword arg: x. From version 0.12, the only valid positional argument will be `data`, and passing other arguments without an explicit keyword will result in an error or misinterpretation.\n",
            "  warnings.warn(\n",
            "/usr/local/lib/python3.8/dist-packages/seaborn/_decorators.py:36: FutureWarning: Pass the following variable as a keyword arg: x. From version 0.12, the only valid positional argument will be `data`, and passing other arguments without an explicit keyword will result in an error or misinterpretation.\n",
            "  warnings.warn(\n"
          ]
        },
        {
          "output_type": "display_data",
          "data": {
            "text/plain": [
              "<Figure size 1440x1080 with 7 Axes>"
            ],
            "image/png": "[encoded data removed]"
          },
          "metadata": {
            "needs_background": "light"
          }
        }
      ]
    },
    {
      "cell_type": "code",
      "source": [
        "plt.scatter(df1.online_order,df1.used_chip)\n",
        "plt.show()"
      ],
      "metadata": {
        "colab": {
          "base_uri": "https://localhost:8080/",
          "height": 265
        },
        "id": "5E1NHt2hLgYR",
        "outputId": "86903816-1a9a-4c54-8eec-dd1019f96b3a"
      },
      "execution_count": null,
      "outputs": [
        {
          "output_type": "display_data",
          "data": {
            "text/plain": [
              "<Figure size 432x288 with 1 Axes>"
            ],
            "image/png": "[encoded data removed]"
          },
          "metadata": {
            "needs_background": "light"
          }
        }
      ]
    },
    {
      "cell_type": "code",
      "source": [
        "plt.hist(df1.online_order)\n",
        "plt.show()"
      ],
      "metadata": {
        "colab": {
          "base_uri": "https://localhost:8080/",
          "height": 265
        },
        "id": "IB2CGyGALkKY",
        "outputId": "a9f9cdf0-0e33-42f4-c248-b8b5e0ddc3f3"
      },
      "execution_count": null,
      "outputs": [
        {
          "output_type": "display_data",
          "data": {
            "text/plain": [
              "<Figure size 432x288 with 1 Axes>"
            ],
            "image/png": "[encoded data removed]"
          },
          "metadata": {
            "needs_background": "light"
          }
        }
      ]
    },
    {
      "cell_type": "code",
      "source": [
        "import missingno as mn\n",
        "mn.bar(df1)\n",
        "plt.show()"
      ],
      "metadata": {
        "colab": {
          "base_uri": "https://localhost:8080/",
          "height": 651
        },
        "id": "3ewlXitzPMRk",
        "outputId": "135cf376-0d51-4308-b273-ef4346c7bc06"
      },
      "execution_count": null,
      "outputs": [
        {
          "output_type": "display_data",
          "data": {
            "text/plain": [
              "<Figure size 1800x720 with 3 Axes>"
            ],
            "image/png": "[encoded data removed]"
          },
          "metadata": {
            "needs_background": "light"
          }
        }
      ]
    },
    {
      "cell_type": "code",
      "source": [
        "x_train, x_test, y_train, y_test = train_test_split(x, y, test_size = 0.1, random_state=0)"
      ],
      "metadata": {
        "id": "1OzFiH2KPdmq"
      },
      "execution_count": null,
      "outputs": []
    },
    {
      "cell_type": "code",
      "source": [
        "a = StandardScaler()\n",
        "x_train = a.fit_transform(x_train)\n",
        "x_test = a.transform(x_test)"
      ],
      "metadata": {
        "id": "_KZtUSf-QJj7"
      },
      "execution_count": null,
      "outputs": []
    },
    {
      "cell_type": "code",
      "source": [
        "clf = DecisionTreeClassifier(criterion = \"entropy\", random_state = 0)\n",
        "clf.fit(x_train, y_train)"
      ],
      "metadata": {
        "colab": {
          "base_uri": "https://localhost:8080/"
        },
        "id": "k3F-zaHkQhu0",
        "outputId": "706f7876-2f3c-48b6-f4a7-2d1111582d1a"
      },
      "execution_count": null,
      "outputs": [
        {
          "output_type": "execute_result",
          "data": {
            "text/plain": [
              "DecisionTreeClassifier(criterion='entropy', random_state=0)"
            ]
          },
          "metadata": {},
          "execution_count": 154
        }
      ]
    },
    {
      "cell_type": "code",
      "source": [
        "y_pred = clf.predict(x_test)"
      ],
      "metadata": {
        "id": "Uy1KA_CGQWvy"
      },
      "execution_count": null,
      "outputs": []
    },
    {
      "cell_type": "code",
      "source": [
        "cm = confusion_matrix(y_test,y_pred)\n",
        "cm"
      ],
      "metadata": {
        "colab": {
          "base_uri": "https://localhost:8080/"
        },
        "id": "23FCkLcFQoKS",
        "outputId": "da45c9c7-6f42-4039-cf01-a93af6a50ed8"
      },
      "execution_count": null,
      "outputs": [
        {
          "output_type": "execute_result",
          "data": {
            "text/plain": [
              "array([[920,   1],\n",
              "       [  0,  79]])"
            ]
          },
          "metadata": {},
          "execution_count": 156
        }
      ]
    },
    {
      "cell_type": "code",
      "source": [
        "import sklearn"
      ],
      "metadata": {
        "id": "0KPQzJ66RMBy"
      },
      "execution_count": null,
      "outputs": []
    },
    {
      "cell_type": "code",
      "source": [
        "accuracy_score(y_test, y_pred)"
      ],
      "metadata": {
        "colab": {
          "base_uri": "https://localhost:8080/"
        },
        "id": "sXhi1W85RR2q",
        "outputId": "343edc68-dc8e-4241-f967-b928a32cbfdc"
      },
      "execution_count": null,
      "outputs": [
        {
          "output_type": "execute_result",
          "data": {
            "text/plain": [
              "0.999"
            ]
          },
          "metadata": {},
          "execution_count": 158
        }
      ]
    },
    {
      "cell_type": "code",
      "source": [
        "sklearn.metrics.accuracy_score(y_test, y_pred)"
      ],
      "metadata": {
        "colab": {
          "base_uri": "https://localhost:8080/"
        },
        "id": "HO2Z6udWRW2j",
        "outputId": "d4b75f8c-6014-42ca-93d6-ff84cc90de2f"
      },
      "execution_count": null,
      "outputs": [
        {
          "output_type": "execute_result",
          "data": {
            "text/plain": [
              "0.999"
            ]
          },
          "metadata": {},
          "execution_count": 159
        }
      ]
    },
    {
      "cell_type": "code",
      "source": [
        "graphviz.Source(export_graphviz (clf,feature_names= x.columns, filled = True))"
      ],
      "metadata": {
        "colab": {
          "base_uri": "https://localhost:8080/",
          "height": 1000
        },
        "id": "0TE1or6BRdhJ",
        "outputId": "d7cdaf83-b1cd-4164-b94a-67785c667e12"
      },
      "execution_count": null,
      "outputs": [
        {
          "output_type": "execute_result",
          "data": {
            "text/plain": [
              "<graphviz.files.Source at 0x7f1b70101820>"
            ],
            "image/svg+xml": "<?xml version=\"1.0\" encoding=\"UTF-8\" standalone=\"no\"?>\n<!DOCTYPE svg PUBLIC \"-//W3C//DTD SVG 1.1//EN\"\n \"http://www.w3.org/Graphics/SVG/1.1/DTD/svg11.dtd\">\n<!-- Generated by graphviz version 2.43.0 (0)\n -->\n<!-- Title: Tree Pages: 1 -->\n<svg width=\"1874pt\" height=\"789pt\"\n viewBox=\"0.00 0.00 1874.00 789.00\" xmlns=\"http://www.w3.org/2000/svg\" xmlns:xlink=\"http://www.w3.org/1999/xlink\">\n<g id=\"graph0\" class=\"graph\" transform=\"scale(1 1) rotate(0) translate(4 785)\">\n<title>Tree</title>\n<polygon fill=\"white\" stroke=\"transparent\" points=\"-4,4 -4,-785 1870,-785 1870,4 -4,4\"/>\n<!-- 0 -->\n<g id=\"node1\" class=\"node\">\n<title>0</title>\n<polygon fill=\"#e78d4b\" stroke=\"black\" points=\"963,-781 691,-781 691,-713 963,-713 963,-781\"/>\n<text text-anchor=\"middle\" x=\"827\" y=\"-765.8\" font-family=\"Helvetica,sans-Serif\" font-size=\"14.00\">ratio_to_median_purchase_price &lt;= 0.777</text>\n<text text-anchor=\"middle\" x=\"827\" y=\"-750.8\" font-family=\"Helvetica,sans-Serif\" font-size=\"14.00\">entropy = 0.418</text>\n<text text-anchor=\"middle\" x=\"827\" y=\"-735.8\" font-family=\"Helvetica,sans-Serif\" font-size=\"14.00\">samples = 9000</text>\n<text text-anchor=\"middle\" x=\"827\" y=\"-720.8\" font-family=\"Helvetica,sans-Serif\" font-size=\"14.00\">value = [8238, 762]</text>\n</g>\n<!-- 1 -->\n<g id=\"node2\" class=\"node\">\n<title>1</title>\n<polygon fill=\"#e6843e\" stroke=\"black\" points=\"753,-677 551,-677 551,-609 753,-609 753,-677\"/>\n<text text-anchor=\"middle\" x=\"652\" y=\"-661.8\" font-family=\"Helvetica,sans-Serif\" font-size=\"14.00\">distance_from_home &lt;= 1.234</text>\n<text text-anchor=\"middle\" x=\"652\" y=\"-646.8\" font-family=\"Helvetica,sans-Serif\" font-size=\"14.00\">entropy = 0.163</text>\n<text text-anchor=\"middle\" x=\"652\" y=\"-631.8\" font-family=\"Helvetica,sans-Serif\" font-size=\"14.00\">samples = 8057</text>\n<text text-anchor=\"middle\" x=\"652\" y=\"-616.8\" font-family=\"Helvetica,sans-Serif\" font-size=\"14.00\">value = [7864, 193]</text>\n</g>\n<!-- 0&#45;&gt;1 -->\n<g id=\"edge1\" class=\"edge\">\n<title>0&#45;&gt;1</title>\n<path fill=\"none\" stroke=\"black\" d=\"M770.18,-712.88C753.44,-703.12 734.98,-692.37 717.73,-682.31\"/>\n<polygon fill=\"black\" stroke=\"black\" points=\"719.23,-679.14 708.83,-677.12 715.71,-685.18 719.23,-679.14\"/>\n<text text-anchor=\"middle\" x=\"715.2\" y=\"-697.6\" font-family=\"Helvetica,sans-Serif\" font-size=\"14.00\">True</text>\n</g>\n<!-- 20 -->\n<g id=\"node21\" class=\"node\">\n<title>20</title>\n<polygon fill=\"#bbddf6\" stroke=\"black\" points=\"1144,-677 990,-677 990,-609 1144,-609 1144,-677\"/>\n<text text-anchor=\"middle\" x=\"1067\" y=\"-661.8\" font-family=\"Helvetica,sans-Serif\" font-size=\"14.00\">online_order &lt;= &#45;0.295</text>\n<text text-anchor=\"middle\" x=\"1067\" y=\"-646.8\" font-family=\"Helvetica,sans-Serif\" font-size=\"14.00\">entropy = 0.969</text>\n<text text-anchor=\"middle\" x=\"1067\" y=\"-631.8\" font-family=\"Helvetica,sans-Serif\" font-size=\"14.00\">samples = 943</text>\n<text text-anchor=\"middle\" x=\"1067\" y=\"-616.8\" font-family=\"Helvetica,sans-Serif\" font-size=\"14.00\">value = [374, 569]</text>\n</g>\n<!-- 0&#45;&gt;20 -->\n<g id=\"edge20\" class=\"edge\">\n<title>0&#45;&gt;20</title>\n<path fill=\"none\" stroke=\"black\" d=\"M904.92,-712.88C929.07,-702.62 955.83,-691.25 980.53,-680.75\"/>\n<polygon fill=\"black\" stroke=\"black\" points=\"982.05,-683.91 989.88,-676.78 979.31,-677.47 982.05,-683.91\"/>\n<text text-anchor=\"middle\" x=\"980.52\" y=\"-696.26\" font-family=\"Helvetica,sans-Serif\" font-size=\"14.00\">False</text>\n</g>\n<!-- 2 -->\n<g id=\"node3\" class=\"node\">\n<title>2</title>\n<polygon fill=\"#e5823a\" stroke=\"black\" points=\"475,-573 213,-573 213,-505 475,-505 475,-573\"/>\n<text text-anchor=\"middle\" x=\"344\" y=\"-557.8\" font-family=\"Helvetica,sans-Serif\" font-size=\"14.00\">distance_from_last_transaction &lt;= 1.963</text>\n<text text-anchor=\"middle\" x=\"344\" y=\"-542.8\" font-family=\"Helvetica,sans-Serif\" font-size=\"14.00\">entropy = 0.047</text>\n<text text-anchor=\"middle\" x=\"344\" y=\"-527.8\" font-family=\"Helvetica,sans-Serif\" font-size=\"14.00\">samples = 7636</text>\n<text text-anchor=\"middle\" x=\"344\" y=\"-512.8\" font-family=\"Helvetica,sans-Serif\" font-size=\"14.00\">value = [7596, 40]</text>\n</g>\n<!-- 1&#45;&gt;2 -->\n<g id=\"edge2\" class=\"edge\">\n<title>1&#45;&gt;2</title>\n<path fill=\"none\" stroke=\"black\" d=\"M552,-608.88C520.56,-598.47 485.69,-586.92 453.62,-576.3\"/>\n<polygon fill=\"black\" stroke=\"black\" points=\"454.35,-572.86 443.76,-573.04 452.15,-579.5 454.35,-572.86\"/>\n</g>\n<!-- 13 -->\n<g id=\"node14\" class=\"node\">\n<title>13</title>\n<polygon fill=\"#f4c9aa\" stroke=\"black\" points=\"720,-573 584,-573 584,-505 720,-505 720,-573\"/>\n<text text-anchor=\"middle\" x=\"652\" y=\"-557.8\" font-family=\"Helvetica,sans-Serif\" font-size=\"14.00\">used_chip &lt;= 0.314</text>\n<text text-anchor=\"middle\" x=\"652\" y=\"-542.8\" font-family=\"Helvetica,sans-Serif\" font-size=\"14.00\">entropy = 0.945</text>\n<text text-anchor=\"middle\" x=\"652\" y=\"-527.8\" font-family=\"Helvetica,sans-Serif\" font-size=\"14.00\">samples = 421</text>\n<text text-anchor=\"middle\" x=\"652\" y=\"-512.8\" font-family=\"Helvetica,sans-Serif\" font-size=\"14.00\">value = [268, 153]</text>\n</g>\n<!-- 1&#45;&gt;13 -->\n<g id=\"edge13\" class=\"edge\">\n<title>1&#45;&gt;13</title>\n<path fill=\"none\" stroke=\"black\" d=\"M652,-608.88C652,-600.78 652,-591.98 652,-583.47\"/>\n<polygon fill=\"black\" stroke=\"black\" points=\"655.5,-583.3 652,-573.3 648.5,-583.3 655.5,-583.3\"/>\n</g>\n<!-- 3 -->\n<g id=\"node4\" class=\"node\">\n<title>3</title>\n<polygon fill=\"#e58139\" stroke=\"black\" points=\"248.5,-461.5 131.5,-461.5 131.5,-408.5 248.5,-408.5 248.5,-461.5\"/>\n<text text-anchor=\"middle\" x=\"190\" y=\"-446.3\" font-family=\"Helvetica,sans-Serif\" font-size=\"14.00\">entropy = 0.0</text>\n<text text-anchor=\"middle\" x=\"190\" y=\"-431.3\" font-family=\"Helvetica,sans-Serif\" font-size=\"14.00\">samples = 7536</text>\n<text text-anchor=\"middle\" x=\"190\" y=\"-416.3\" font-family=\"Helvetica,sans-Serif\" font-size=\"14.00\">value = [7536, 0]</text>\n</g>\n<!-- 2&#45;&gt;3 -->\n<g id=\"edge3\" class=\"edge\">\n<title>2&#45;&gt;3</title>\n<path fill=\"none\" stroke=\"black\" d=\"M294,-504.88C275.74,-492.79 255.15,-479.15 237.14,-467.22\"/>\n<polygon fill=\"black\" stroke=\"black\" points=\"238.8,-464.12 228.53,-461.52 234.93,-469.96 238.8,-464.12\"/>\n</g>\n<!-- 4 -->\n<g id=\"node5\" class=\"node\">\n<title>4</title>\n<polygon fill=\"#f6d5bd\" stroke=\"black\" points=\"421,-469 267,-469 267,-401 421,-401 421,-469\"/>\n<text text-anchor=\"middle\" x=\"344\" y=\"-453.8\" font-family=\"Helvetica,sans-Serif\" font-size=\"14.00\">online_order &lt;= &#45;0.295</text>\n<text text-anchor=\"middle\" x=\"344\" y=\"-438.8\" font-family=\"Helvetica,sans-Serif\" font-size=\"14.00\">entropy = 0.971</text>\n<text text-anchor=\"middle\" x=\"344\" y=\"-423.8\" font-family=\"Helvetica,sans-Serif\" font-size=\"14.00\">samples = 100</text>\n<text text-anchor=\"middle\" x=\"344\" y=\"-408.8\" font-family=\"Helvetica,sans-Serif\" font-size=\"14.00\">value = [60, 40]</text>\n</g>\n<!-- 2&#45;&gt;4 -->\n<g id=\"edge4\" class=\"edge\">\n<title>2&#45;&gt;4</title>\n<path fill=\"none\" stroke=\"black\" d=\"M344,-504.88C344,-496.78 344,-487.98 344,-479.47\"/>\n<polygon fill=\"black\" stroke=\"black\" points=\"347.5,-479.3 344,-469.3 340.5,-479.3 347.5,-479.3\"/>\n</g>\n<!-- 5 -->\n<g id=\"node6\" class=\"node\">\n<title>5</title>\n<polygon fill=\"#e58139\" stroke=\"black\" points=\"258,-357.5 156,-357.5 156,-304.5 258,-304.5 258,-357.5\"/>\n<text text-anchor=\"middle\" x=\"207\" y=\"-342.3\" font-family=\"Helvetica,sans-Serif\" font-size=\"14.00\">entropy = 0.0</text>\n<text text-anchor=\"middle\" x=\"207\" y=\"-327.3\" font-family=\"Helvetica,sans-Serif\" font-size=\"14.00\">samples = 33</text>\n<text text-anchor=\"middle\" x=\"207\" y=\"-312.3\" font-family=\"Helvetica,sans-Serif\" font-size=\"14.00\">value = [33, 0]</text>\n</g>\n<!-- 4&#45;&gt;5 -->\n<g id=\"edge5\" class=\"edge\">\n<title>4&#45;&gt;5</title>\n<path fill=\"none\" stroke=\"black\" d=\"M299.52,-400.88C283.42,-388.9 265.29,-375.4 249.38,-363.55\"/>\n<polygon fill=\"black\" stroke=\"black\" points=\"251.39,-360.68 241.28,-357.52 247.21,-366.3 251.39,-360.68\"/>\n</g>\n<!-- 6 -->\n<g id=\"node7\" class=\"node\">\n<title>6</title>\n<polygon fill=\"#bfdff7\" stroke=\"black\" points=\"412,-365 276,-365 276,-297 412,-297 412,-365\"/>\n<text text-anchor=\"middle\" x=\"344\" y=\"-349.8\" font-family=\"Helvetica,sans-Serif\" font-size=\"14.00\">used_chip &lt;= 0.314</text>\n<text text-anchor=\"middle\" x=\"344\" y=\"-334.8\" font-family=\"Helvetica,sans-Serif\" font-size=\"14.00\">entropy = 0.973</text>\n<text text-anchor=\"middle\" x=\"344\" y=\"-319.8\" font-family=\"Helvetica,sans-Serif\" font-size=\"14.00\">samples = 67</text>\n<text text-anchor=\"middle\" x=\"344\" y=\"-304.8\" font-family=\"Helvetica,sans-Serif\" font-size=\"14.00\">value = [27, 40]</text>\n</g>\n<!-- 4&#45;&gt;6 -->\n<g id=\"edge6\" class=\"edge\">\n<title>4&#45;&gt;6</title>\n<path fill=\"none\" stroke=\"black\" d=\"M344,-400.88C344,-392.78 344,-383.98 344,-375.47\"/>\n<polygon fill=\"black\" stroke=\"black\" points=\"347.5,-375.3 344,-365.3 340.5,-375.3 347.5,-375.3\"/>\n</g>\n<!-- 7 -->\n<g id=\"node8\" class=\"node\">\n<title>7</title>\n<polygon fill=\"#58ace9\" stroke=\"black\" points=\"232,-261 56,-261 56,-193 232,-193 232,-261\"/>\n<text text-anchor=\"middle\" x=\"144\" y=\"-245.8\" font-family=\"Helvetica,sans-Serif\" font-size=\"14.00\">used_pin_number &lt;= 1.27</text>\n<text text-anchor=\"middle\" x=\"144\" y=\"-230.8\" font-family=\"Helvetica,sans-Serif\" font-size=\"14.00\">entropy = 0.575</text>\n<text text-anchor=\"middle\" x=\"144\" y=\"-215.8\" font-family=\"Helvetica,sans-Serif\" font-size=\"14.00\">samples = 44</text>\n<text text-anchor=\"middle\" x=\"144\" y=\"-200.8\" font-family=\"Helvetica,sans-Serif\" font-size=\"14.00\">value = [6, 38]</text>\n</g>\n<!-- 6&#45;&gt;7 -->\n<g id=\"edge7\" class=\"edge\">\n<title>6&#45;&gt;7</title>\n<path fill=\"none\" stroke=\"black\" d=\"M279.07,-296.88C259.58,-286.95 238.06,-275.97 218.03,-265.76\"/>\n<polygon fill=\"black\" stroke=\"black\" points=\"219.45,-262.55 208.95,-261.12 216.27,-268.79 219.45,-262.55\"/>\n</g>\n<!-- 10 -->\n<g id=\"node11\" class=\"node\">\n<title>10</title>\n<polygon fill=\"#e78d4c\" stroke=\"black\" points=\"456,-261 250,-261 250,-193 456,-193 456,-261\"/>\n<text text-anchor=\"middle\" x=\"353\" y=\"-245.8\" font-family=\"Helvetica,sans-Serif\" font-size=\"14.00\">distance_from_home &lt;= &#45;0.421</text>\n<text text-anchor=\"middle\" x=\"353\" y=\"-230.8\" font-family=\"Helvetica,sans-Serif\" font-size=\"14.00\">entropy = 0.426</text>\n<text text-anchor=\"middle\" x=\"353\" y=\"-215.8\" font-family=\"Helvetica,sans-Serif\" font-size=\"14.00\">samples = 23</text>\n<text text-anchor=\"middle\" x=\"353\" y=\"-200.8\" font-family=\"Helvetica,sans-Serif\" font-size=\"14.00\">value = [21, 2]</text>\n</g>\n<!-- 6&#45;&gt;10 -->\n<g id=\"edge10\" class=\"edge\">\n<title>6&#45;&gt;10</title>\n<path fill=\"none\" stroke=\"black\" d=\"M346.92,-296.88C347.64,-288.78 348.41,-279.98 349.16,-271.47\"/>\n<polygon fill=\"black\" stroke=\"black\" points=\"352.67,-271.57 350.06,-261.3 345.7,-270.95 352.67,-271.57\"/>\n</g>\n<!-- 8 -->\n<g id=\"node9\" class=\"node\">\n<title>8</title>\n<polygon fill=\"#399de5\" stroke=\"black\" points=\"102,-149.5 0,-149.5 0,-96.5 102,-96.5 102,-149.5\"/>\n<text text-anchor=\"middle\" x=\"51\" y=\"-134.3\" font-family=\"Helvetica,sans-Serif\" font-size=\"14.00\">entropy = 0.0</text>\n<text text-anchor=\"middle\" x=\"51\" y=\"-119.3\" font-family=\"Helvetica,sans-Serif\" font-size=\"14.00\">samples = 38</text>\n<text text-anchor=\"middle\" x=\"51\" y=\"-104.3\" font-family=\"Helvetica,sans-Serif\" font-size=\"14.00\">value = [0, 38]</text>\n</g>\n<!-- 7&#45;&gt;8 -->\n<g id=\"edge8\" class=\"edge\">\n<title>7&#45;&gt;8</title>\n<path fill=\"none\" stroke=\"black\" d=\"M113.81,-192.88C103.38,-181.45 91.7,-168.63 81.26,-157.19\"/>\n<polygon fill=\"black\" stroke=\"black\" points=\"83.59,-154.55 74.27,-149.52 78.42,-159.27 83.59,-154.55\"/>\n</g>\n<!-- 9 -->\n<g id=\"node10\" class=\"node\">\n<title>9</title>\n<polygon fill=\"#e58139\" stroke=\"black\" points=\"216,-149.5 120,-149.5 120,-96.5 216,-96.5 216,-149.5\"/>\n<text text-anchor=\"middle\" x=\"168\" y=\"-134.3\" font-family=\"Helvetica,sans-Serif\" font-size=\"14.00\">entropy = 0.0</text>\n<text text-anchor=\"middle\" x=\"168\" y=\"-119.3\" font-family=\"Helvetica,sans-Serif\" font-size=\"14.00\">samples = 6</text>\n<text text-anchor=\"middle\" x=\"168\" y=\"-104.3\" font-family=\"Helvetica,sans-Serif\" font-size=\"14.00\">value = [6, 0]</text>\n</g>\n<!-- 7&#45;&gt;9 -->\n<g id=\"edge9\" class=\"edge\">\n<title>7&#45;&gt;9</title>\n<path fill=\"none\" stroke=\"black\" d=\"M151.79,-192.88C154.3,-182.22 157.09,-170.35 159.64,-159.52\"/>\n<polygon fill=\"black\" stroke=\"black\" points=\"163.11,-160.06 162,-149.52 156.3,-158.45 163.11,-160.06\"/>\n</g>\n<!-- 11 -->\n<g id=\"node12\" class=\"node\">\n<title>11</title>\n<polygon fill=\"#399de5\" stroke=\"black\" points=\"377,-149.5 281,-149.5 281,-96.5 377,-96.5 377,-149.5\"/>\n<text text-anchor=\"middle\" x=\"329\" y=\"-134.3\" font-family=\"Helvetica,sans-Serif\" font-size=\"14.00\">entropy = 0.0</text>\n<text text-anchor=\"middle\" x=\"329\" y=\"-119.3\" font-family=\"Helvetica,sans-Serif\" font-size=\"14.00\">samples = 2</text>\n<text text-anchor=\"middle\" x=\"329\" y=\"-104.3\" font-family=\"Helvetica,sans-Serif\" font-size=\"14.00\">value = [0, 2]</text>\n</g>\n<!-- 10&#45;&gt;11 -->\n<g id=\"edge11\" class=\"edge\">\n<title>10&#45;&gt;11</title>\n<path fill=\"none\" stroke=\"black\" d=\"M345.21,-192.88C342.7,-182.22 339.91,-170.35 337.36,-159.52\"/>\n<polygon fill=\"black\" stroke=\"black\" points=\"340.7,-158.45 335,-149.52 333.89,-160.06 340.7,-158.45\"/>\n</g>\n<!-- 12 -->\n<g id=\"node13\" class=\"node\">\n<title>12</title>\n<polygon fill=\"#e58139\" stroke=\"black\" points=\"497,-149.5 395,-149.5 395,-96.5 497,-96.5 497,-149.5\"/>\n<text text-anchor=\"middle\" x=\"446\" y=\"-134.3\" font-family=\"Helvetica,sans-Serif\" font-size=\"14.00\">entropy = 0.0</text>\n<text text-anchor=\"middle\" x=\"446\" y=\"-119.3\" font-family=\"Helvetica,sans-Serif\" font-size=\"14.00\">samples = 21</text>\n<text text-anchor=\"middle\" x=\"446\" y=\"-104.3\" font-family=\"Helvetica,sans-Serif\" font-size=\"14.00\">value = [21, 0]</text>\n</g>\n<!-- 10&#45;&gt;12 -->\n<g id=\"edge12\" class=\"edge\">\n<title>10&#45;&gt;12</title>\n<path fill=\"none\" stroke=\"black\" d=\"M383.19,-192.88C393.62,-181.45 405.3,-168.63 415.74,-157.19\"/>\n<polygon fill=\"black\" stroke=\"black\" points=\"418.58,-159.27 422.73,-149.52 413.41,-154.55 418.58,-159.27\"/>\n</g>\n<!-- 14 -->\n<g id=\"node15\" class=\"node\">\n<title>14</title>\n<polygon fill=\"#d6ebfa\" stroke=\"black\" points=\"654,-469 500,-469 500,-401 654,-401 654,-469\"/>\n<text text-anchor=\"middle\" x=\"577\" y=\"-453.8\" font-family=\"Helvetica,sans-Serif\" font-size=\"14.00\">online_order &lt;= &#45;0.295</text>\n<text text-anchor=\"middle\" x=\"577\" y=\"-438.8\" font-family=\"Helvetica,sans-Serif\" font-size=\"14.00\">entropy = 0.99</text>\n<text text-anchor=\"middle\" x=\"577\" y=\"-423.8\" font-family=\"Helvetica,sans-Serif\" font-size=\"14.00\">samples = 274</text>\n<text text-anchor=\"middle\" x=\"577\" y=\"-408.8\" font-family=\"Helvetica,sans-Serif\" font-size=\"14.00\">value = [121, 153]</text>\n</g>\n<!-- 13&#45;&gt;14 -->\n<g id=\"edge14\" class=\"edge\">\n<title>13&#45;&gt;14</title>\n<path fill=\"none\" stroke=\"black\" d=\"M627.65,-504.88C621.23,-496.15 614.22,-486.62 607.52,-477.51\"/>\n<polygon fill=\"black\" stroke=\"black\" points=\"610.23,-475.28 601.48,-469.3 604.59,-479.43 610.23,-475.28\"/>\n</g>\n<!-- 19 -->\n<g id=\"node20\" class=\"node\">\n<title>19</title>\n<polygon fill=\"#e58139\" stroke=\"black\" points=\"782,-461.5 672,-461.5 672,-408.5 782,-408.5 782,-461.5\"/>\n<text text-anchor=\"middle\" x=\"727\" y=\"-446.3\" font-family=\"Helvetica,sans-Serif\" font-size=\"14.00\">entropy = 0.0</text>\n<text text-anchor=\"middle\" x=\"727\" y=\"-431.3\" font-family=\"Helvetica,sans-Serif\" font-size=\"14.00\">samples = 147</text>\n<text text-anchor=\"middle\" x=\"727\" y=\"-416.3\" font-family=\"Helvetica,sans-Serif\" font-size=\"14.00\">value = [147, 0]</text>\n</g>\n<!-- 13&#45;&gt;19 -->\n<g id=\"edge19\" class=\"edge\">\n<title>13&#45;&gt;19</title>\n<path fill=\"none\" stroke=\"black\" d=\"M676.35,-504.88C684.6,-493.67 693.82,-481.13 702.11,-469.85\"/>\n<polygon fill=\"black\" stroke=\"black\" points=\"705.13,-471.65 708.24,-461.52 699.49,-467.5 705.13,-471.65\"/>\n</g>\n<!-- 15 -->\n<g id=\"node16\" class=\"node\">\n<title>15</title>\n<polygon fill=\"#e58139\" stroke=\"black\" points=\"532,-357.5 430,-357.5 430,-304.5 532,-304.5 532,-357.5\"/>\n<text text-anchor=\"middle\" x=\"481\" y=\"-342.3\" font-family=\"Helvetica,sans-Serif\" font-size=\"14.00\">entropy = 0.0</text>\n<text text-anchor=\"middle\" x=\"481\" y=\"-327.3\" font-family=\"Helvetica,sans-Serif\" font-size=\"14.00\">samples = 96</text>\n<text text-anchor=\"middle\" x=\"481\" y=\"-312.3\" font-family=\"Helvetica,sans-Serif\" font-size=\"14.00\">value = [96, 0]</text>\n</g>\n<!-- 14&#45;&gt;15 -->\n<g id=\"edge15\" class=\"edge\">\n<title>14&#45;&gt;15</title>\n<path fill=\"none\" stroke=\"black\" d=\"M545.83,-400.88C534.96,-389.34 522.78,-376.39 511.93,-364.86\"/>\n<polygon fill=\"black\" stroke=\"black\" points=\"514.42,-362.4 505.02,-357.52 509.32,-367.2 514.42,-362.4\"/>\n</g>\n<!-- 16 -->\n<g id=\"node17\" class=\"node\">\n<title>16</title>\n<polygon fill=\"#59ade9\" stroke=\"black\" points=\"726,-365 550,-365 550,-297 726,-297 726,-365\"/>\n<text text-anchor=\"middle\" x=\"638\" y=\"-349.8\" font-family=\"Helvetica,sans-Serif\" font-size=\"14.00\">used_pin_number &lt;= 1.27</text>\n<text text-anchor=\"middle\" x=\"638\" y=\"-334.8\" font-family=\"Helvetica,sans-Serif\" font-size=\"14.00\">entropy = 0.585</text>\n<text text-anchor=\"middle\" x=\"638\" y=\"-319.8\" font-family=\"Helvetica,sans-Serif\" font-size=\"14.00\">samples = 178</text>\n<text text-anchor=\"middle\" x=\"638\" y=\"-304.8\" font-family=\"Helvetica,sans-Serif\" font-size=\"14.00\">value = [25, 153]</text>\n</g>\n<!-- 14&#45;&gt;16 -->\n<g id=\"edge16\" class=\"edge\">\n<title>14&#45;&gt;16</title>\n<path fill=\"none\" stroke=\"black\" d=\"M596.8,-400.88C601.92,-392.33 607.49,-383.01 612.84,-374.07\"/>\n<polygon fill=\"black\" stroke=\"black\" points=\"615.96,-375.68 618.09,-365.3 609.95,-372.09 615.96,-375.68\"/>\n</g>\n<!-- 17 -->\n<g id=\"node18\" class=\"node\">\n<title>17</title>\n<polygon fill=\"#399de5\" stroke=\"black\" points=\"618,-253.5 508,-253.5 508,-200.5 618,-200.5 618,-253.5\"/>\n<text text-anchor=\"middle\" x=\"563\" y=\"-238.3\" font-family=\"Helvetica,sans-Serif\" font-size=\"14.00\">entropy = 0.0</text>\n<text text-anchor=\"middle\" x=\"563\" y=\"-223.3\" font-family=\"Helvetica,sans-Serif\" font-size=\"14.00\">samples = 153</text>\n<text text-anchor=\"middle\" x=\"563\" y=\"-208.3\" font-family=\"Helvetica,sans-Serif\" font-size=\"14.00\">value = [0, 153]</text>\n</g>\n<!-- 16&#45;&gt;17 -->\n<g id=\"edge17\" class=\"edge\">\n<title>16&#45;&gt;17</title>\n<path fill=\"none\" stroke=\"black\" d=\"M613.65,-296.88C605.4,-285.67 596.18,-273.13 587.89,-261.85\"/>\n<polygon fill=\"black\" stroke=\"black\" points=\"590.51,-259.5 581.76,-253.52 584.87,-263.65 590.51,-259.5\"/>\n</g>\n<!-- 18 -->\n<g id=\"node19\" class=\"node\">\n<title>18</title>\n<polygon fill=\"#e58139\" stroke=\"black\" points=\"738,-253.5 636,-253.5 636,-200.5 738,-200.5 738,-253.5\"/>\n<text text-anchor=\"middle\" x=\"687\" y=\"-238.3\" font-family=\"Helvetica,sans-Serif\" font-size=\"14.00\">entropy = 0.0</text>\n<text text-anchor=\"middle\" x=\"687\" y=\"-223.3\" font-family=\"Helvetica,sans-Serif\" font-size=\"14.00\">samples = 25</text>\n<text text-anchor=\"middle\" x=\"687\" y=\"-208.3\" font-family=\"Helvetica,sans-Serif\" font-size=\"14.00\">value = [25, 0]</text>\n</g>\n<!-- 16&#45;&gt;18 -->\n<g id=\"edge18\" class=\"edge\">\n<title>16&#45;&gt;18</title>\n<path fill=\"none\" stroke=\"black\" d=\"M653.91,-296.88C659.14,-286 664.97,-273.86 670.26,-262.85\"/>\n<polygon fill=\"black\" stroke=\"black\" points=\"673.57,-264.05 674.74,-253.52 667.26,-261.02 673.57,-264.05\"/>\n</g>\n<!-- 21 -->\n<g id=\"node22\" class=\"node\">\n<title>21</title>\n<polygon fill=\"#e78c4a\" stroke=\"black\" points=\"1170,-573 964,-573 964,-505 1170,-505 1170,-573\"/>\n<text text-anchor=\"middle\" x=\"1067\" y=\"-557.8\" font-family=\"Helvetica,sans-Serif\" font-size=\"14.00\">distance_from_home &lt;= &#45;0.414</text>\n<text text-anchor=\"middle\" x=\"1067\" y=\"-542.8\" font-family=\"Helvetica,sans-Serif\" font-size=\"14.00\">entropy = 0.4</text>\n<text text-anchor=\"middle\" x=\"1067\" y=\"-527.8\" font-family=\"Helvetica,sans-Serif\" font-size=\"14.00\">samples = 340</text>\n<text text-anchor=\"middle\" x=\"1067\" y=\"-512.8\" font-family=\"Helvetica,sans-Serif\" font-size=\"14.00\">value = [313, 27]</text>\n</g>\n<!-- 20&#45;&gt;21 -->\n<g id=\"edge21\" class=\"edge\">\n<title>20&#45;&gt;21</title>\n<path fill=\"none\" stroke=\"black\" d=\"M1067,-608.88C1067,-600.78 1067,-591.98 1067,-583.47\"/>\n<polygon fill=\"black\" stroke=\"black\" points=\"1070.5,-583.3 1067,-573.3 1063.5,-583.3 1070.5,-583.3\"/>\n</g>\n<!-- 32 -->\n<g id=\"node33\" class=\"node\">\n<title>32</title>\n<polygon fill=\"#4fa8e8\" stroke=\"black\" points=\"1442,-573 1266,-573 1266,-505 1442,-505 1442,-573\"/>\n<text text-anchor=\"middle\" x=\"1354\" y=\"-557.8\" font-family=\"Helvetica,sans-Serif\" font-size=\"14.00\">used_pin_number &lt;= 1.27</text>\n<text text-anchor=\"middle\" x=\"1354\" y=\"-542.8\" font-family=\"Helvetica,sans-Serif\" font-size=\"14.00\">entropy = 0.473</text>\n<text text-anchor=\"middle\" x=\"1354\" y=\"-527.8\" font-family=\"Helvetica,sans-Serif\" font-size=\"14.00\">samples = 603</text>\n<text text-anchor=\"middle\" x=\"1354\" y=\"-512.8\" font-family=\"Helvetica,sans-Serif\" font-size=\"14.00\">value = [61, 542]</text>\n</g>\n<!-- 20&#45;&gt;32 -->\n<g id=\"edge32\" class=\"edge\">\n<title>20&#45;&gt;32</title>\n<path fill=\"none\" stroke=\"black\" d=\"M1144.29,-614.53C1178.73,-602.29 1219.69,-587.73 1256.24,-574.74\"/>\n<polygon fill=\"black\" stroke=\"black\" points=\"1257.67,-577.95 1265.92,-571.3 1255.33,-571.35 1257.67,-577.95\"/>\n</g>\n<!-- 22 -->\n<g id=\"node23\" class=\"node\">\n<title>22</title>\n<polygon fill=\"#ffffff\" stroke=\"black\" points=\"1057,-469 921,-469 921,-401 1057,-401 1057,-469\"/>\n<text text-anchor=\"middle\" x=\"989\" y=\"-453.8\" font-family=\"Helvetica,sans-Serif\" font-size=\"14.00\">used_chip &lt;= 0.314</text>\n<text text-anchor=\"middle\" x=\"989\" y=\"-438.8\" font-family=\"Helvetica,sans-Serif\" font-size=\"14.00\">entropy = 1.0</text>\n<text text-anchor=\"middle\" x=\"989\" y=\"-423.8\" font-family=\"Helvetica,sans-Serif\" font-size=\"14.00\">samples = 36</text>\n<text text-anchor=\"middle\" x=\"989\" y=\"-408.8\" font-family=\"Helvetica,sans-Serif\" font-size=\"14.00\">value = [18, 18]</text>\n</g>\n<!-- 21&#45;&gt;22 -->\n<g id=\"edge22\" class=\"edge\">\n<title>21&#45;&gt;22</title>\n<path fill=\"none\" stroke=\"black\" d=\"M1041.68,-504.88C1035,-496.15 1027.71,-486.62 1020.75,-477.51\"/>\n<polygon fill=\"black\" stroke=\"black\" points=\"1023.32,-475.12 1014.46,-469.3 1017.76,-479.37 1023.32,-475.12\"/>\n</g>\n<!-- 27 -->\n<g id=\"node28\" class=\"node\">\n<title>27</title>\n<polygon fill=\"#e6853f\" stroke=\"black\" points=\"1281,-469 1079,-469 1079,-401 1281,-401 1281,-469\"/>\n<text text-anchor=\"middle\" x=\"1180\" y=\"-453.8\" font-family=\"Helvetica,sans-Serif\" font-size=\"14.00\">distance_from_home &lt;= 1.263</text>\n<text text-anchor=\"middle\" x=\"1180\" y=\"-438.8\" font-family=\"Helvetica,sans-Serif\" font-size=\"14.00\">entropy = 0.192</text>\n<text text-anchor=\"middle\" x=\"1180\" y=\"-423.8\" font-family=\"Helvetica,sans-Serif\" font-size=\"14.00\">samples = 304</text>\n<text text-anchor=\"middle\" x=\"1180\" y=\"-408.8\" font-family=\"Helvetica,sans-Serif\" font-size=\"14.00\">value = [295, 9]</text>\n</g>\n<!-- 21&#45;&gt;27 -->\n<g id=\"edge27\" class=\"edge\">\n<title>21&#45;&gt;27</title>\n<path fill=\"none\" stroke=\"black\" d=\"M1103.69,-504.88C1113.85,-495.71 1125,-485.65 1135.55,-476.12\"/>\n<polygon fill=\"black\" stroke=\"black\" points=\"1138.03,-478.6 1143.11,-469.3 1133.34,-473.4 1138.03,-478.6\"/>\n</g>\n<!-- 23 -->\n<g id=\"node24\" class=\"node\">\n<title>23</title>\n<polygon fill=\"#70b8ec\" stroke=\"black\" points=\"920,-365 744,-365 744,-297 920,-297 920,-365\"/>\n<text text-anchor=\"middle\" x=\"832\" y=\"-349.8\" font-family=\"Helvetica,sans-Serif\" font-size=\"14.00\">used_pin_number &lt;= 1.27</text>\n<text text-anchor=\"middle\" x=\"832\" y=\"-334.8\" font-family=\"Helvetica,sans-Serif\" font-size=\"14.00\">entropy = 0.755</text>\n<text text-anchor=\"middle\" x=\"832\" y=\"-319.8\" font-family=\"Helvetica,sans-Serif\" font-size=\"14.00\">samples = 23</text>\n<text text-anchor=\"middle\" x=\"832\" y=\"-304.8\" font-family=\"Helvetica,sans-Serif\" font-size=\"14.00\">value = [5, 18]</text>\n</g>\n<!-- 22&#45;&gt;23 -->\n<g id=\"edge23\" class=\"edge\">\n<title>22&#45;&gt;23</title>\n<path fill=\"none\" stroke=\"black\" d=\"M938.03,-400.88C923.14,-391.21 906.75,-380.56 891.39,-370.59\"/>\n<polygon fill=\"black\" stroke=\"black\" points=\"893.28,-367.64 882.99,-365.12 889.46,-373.51 893.28,-367.64\"/>\n</g>\n<!-- 26 -->\n<g id=\"node27\" class=\"node\">\n<title>26</title>\n<polygon fill=\"#e58139\" stroke=\"black\" points=\"1040,-357.5 938,-357.5 938,-304.5 1040,-304.5 1040,-357.5\"/>\n<text text-anchor=\"middle\" x=\"989\" y=\"-342.3\" font-family=\"Helvetica,sans-Serif\" font-size=\"14.00\">entropy = 0.0</text>\n<text text-anchor=\"middle\" x=\"989\" y=\"-327.3\" font-family=\"Helvetica,sans-Serif\" font-size=\"14.00\">samples = 13</text>\n<text text-anchor=\"middle\" x=\"989\" y=\"-312.3\" font-family=\"Helvetica,sans-Serif\" font-size=\"14.00\">value = [13, 0]</text>\n</g>\n<!-- 22&#45;&gt;26 -->\n<g id=\"edge26\" class=\"edge\">\n<title>22&#45;&gt;26</title>\n<path fill=\"none\" stroke=\"black\" d=\"M989,-400.88C989,-390.33 989,-378.6 989,-367.85\"/>\n<polygon fill=\"black\" stroke=\"black\" points=\"992.5,-367.52 989,-357.52 985.5,-367.52 992.5,-367.52\"/>\n</g>\n<!-- 24 -->\n<g id=\"node25\" class=\"node\">\n<title>24</title>\n<polygon fill=\"#399de5\" stroke=\"black\" points=\"875,-253.5 773,-253.5 773,-200.5 875,-200.5 875,-253.5\"/>\n<text text-anchor=\"middle\" x=\"824\" y=\"-238.3\" font-family=\"Helvetica,sans-Serif\" font-size=\"14.00\">entropy = 0.0</text>\n<text text-anchor=\"middle\" x=\"824\" y=\"-223.3\" font-family=\"Helvetica,sans-Serif\" font-size=\"14.00\">samples = 18</text>\n<text text-anchor=\"middle\" x=\"824\" y=\"-208.3\" font-family=\"Helvetica,sans-Serif\" font-size=\"14.00\">value = [0, 18]</text>\n</g>\n<!-- 23&#45;&gt;24 -->\n<g id=\"edge24\" class=\"edge\">\n<title>23&#45;&gt;24</title>\n<path fill=\"none\" stroke=\"black\" d=\"M829.4,-296.88C828.57,-286.22 827.64,-274.35 826.79,-263.52\"/>\n<polygon fill=\"black\" stroke=\"black\" points=\"830.27,-263.22 826,-253.52 823.29,-263.76 830.27,-263.22\"/>\n</g>\n<!-- 25 -->\n<g id=\"node26\" class=\"node\">\n<title>25</title>\n<polygon fill=\"#e58139\" stroke=\"black\" points=\"989,-253.5 893,-253.5 893,-200.5 989,-200.5 989,-253.5\"/>\n<text text-anchor=\"middle\" x=\"941\" y=\"-238.3\" font-family=\"Helvetica,sans-Serif\" font-size=\"14.00\">entropy = 0.0</text>\n<text text-anchor=\"middle\" x=\"941\" y=\"-223.3\" font-family=\"Helvetica,sans-Serif\" font-size=\"14.00\">samples = 5</text>\n<text text-anchor=\"middle\" x=\"941\" y=\"-208.3\" font-family=\"Helvetica,sans-Serif\" font-size=\"14.00\">value = [5, 0]</text>\n</g>\n<!-- 23&#45;&gt;25 -->\n<g id=\"edge25\" class=\"edge\">\n<title>23&#45;&gt;25</title>\n<path fill=\"none\" stroke=\"black\" d=\"M867.39,-296.88C879.85,-285.23 893.83,-272.14 906.24,-260.53\"/>\n<polygon fill=\"black\" stroke=\"black\" points=\"908.82,-262.91 913.73,-253.52 904.04,-257.8 908.82,-262.91\"/>\n</g>\n<!-- 28 -->\n<g id=\"node29\" class=\"node\">\n<title>28</title>\n<polygon fill=\"#e5813a\" stroke=\"black\" points=\"1312,-365 1058,-365 1058,-297 1312,-297 1312,-365\"/>\n<text text-anchor=\"middle\" x=\"1185\" y=\"-349.8\" font-family=\"Helvetica,sans-Serif\" font-size=\"14.00\">distance_from_last_transaction &lt;= 2.31</text>\n<text text-anchor=\"middle\" x=\"1185\" y=\"-334.8\" font-family=\"Helvetica,sans-Serif\" font-size=\"14.00\">entropy = 0.033</text>\n<text text-anchor=\"middle\" x=\"1185\" y=\"-319.8\" font-family=\"Helvetica,sans-Serif\" font-size=\"14.00\">samples = 296</text>\n<text text-anchor=\"middle\" x=\"1185\" y=\"-304.8\" font-family=\"Helvetica,sans-Serif\" font-size=\"14.00\">value = [295, 1]</text>\n</g>\n<!-- 27&#45;&gt;28 -->\n<g id=\"edge28\" class=\"edge\">\n<title>27&#45;&gt;28</title>\n<path fill=\"none\" stroke=\"black\" d=\"M1181.62,-400.88C1182.02,-392.78 1182.45,-383.98 1182.87,-375.47\"/>\n<polygon fill=\"black\" stroke=\"black\" points=\"1186.37,-375.46 1183.37,-365.3 1179.38,-375.12 1186.37,-375.46\"/>\n</g>\n<!-- 31 -->\n<g id=\"node32\" class=\"node\">\n<title>31</title>\n<polygon fill=\"#399de5\" stroke=\"black\" points=\"1426,-357.5 1330,-357.5 1330,-304.5 1426,-304.5 1426,-357.5\"/>\n<text text-anchor=\"middle\" x=\"1378\" y=\"-342.3\" font-family=\"Helvetica,sans-Serif\" font-size=\"14.00\">entropy = 0.0</text>\n<text text-anchor=\"middle\" x=\"1378\" y=\"-327.3\" font-family=\"Helvetica,sans-Serif\" font-size=\"14.00\">samples = 8</text>\n<text text-anchor=\"middle\" x=\"1378\" y=\"-312.3\" font-family=\"Helvetica,sans-Serif\" font-size=\"14.00\">value = [0, 8]</text>\n</g>\n<!-- 27&#45;&gt;31 -->\n<g id=\"edge31\" class=\"edge\">\n<title>27&#45;&gt;31</title>\n<path fill=\"none\" stroke=\"black\" d=\"M1250.05,-400.91C1272.85,-389.83 1298.16,-377.18 1321,-365 1322.53,-364.19 1324.07,-363.35 1325.63,-362.51\"/>\n<polygon fill=\"black\" stroke=\"black\" points=\"1327.55,-365.44 1334.61,-357.54 1324.16,-359.32 1327.55,-365.44\"/>\n</g>\n<!-- 29 -->\n<g id=\"node30\" class=\"node\">\n<title>29</title>\n<polygon fill=\"#e58139\" stroke=\"black\" points=\"1180,-253.5 1070,-253.5 1070,-200.5 1180,-200.5 1180,-253.5\"/>\n<text text-anchor=\"middle\" x=\"1125\" y=\"-238.3\" font-family=\"Helvetica,sans-Serif\" font-size=\"14.00\">entropy = 0.0</text>\n<text text-anchor=\"middle\" x=\"1125\" y=\"-223.3\" font-family=\"Helvetica,sans-Serif\" font-size=\"14.00\">samples = 295</text>\n<text text-anchor=\"middle\" x=\"1125\" y=\"-208.3\" font-family=\"Helvetica,sans-Serif\" font-size=\"14.00\">value = [295, 0]</text>\n</g>\n<!-- 28&#45;&gt;29 -->\n<g id=\"edge29\" class=\"edge\">\n<title>28&#45;&gt;29</title>\n<path fill=\"none\" stroke=\"black\" d=\"M1165.52,-296.88C1158.99,-285.78 1151.69,-273.37 1145.11,-262.18\"/>\n<polygon fill=\"black\" stroke=\"black\" points=\"1148.1,-260.36 1140.01,-253.52 1142.07,-263.91 1148.1,-260.36\"/>\n</g>\n<!-- 30 -->\n<g id=\"node31\" class=\"node\">\n<title>30</title>\n<polygon fill=\"#399de5\" stroke=\"black\" points=\"1294,-253.5 1198,-253.5 1198,-200.5 1294,-200.5 1294,-253.5\"/>\n<text text-anchor=\"middle\" x=\"1246\" y=\"-238.3\" font-family=\"Helvetica,sans-Serif\" font-size=\"14.00\">entropy = 0.0</text>\n<text text-anchor=\"middle\" x=\"1246\" y=\"-223.3\" font-family=\"Helvetica,sans-Serif\" font-size=\"14.00\">samples = 1</text>\n<text text-anchor=\"middle\" x=\"1246\" y=\"-208.3\" font-family=\"Helvetica,sans-Serif\" font-size=\"14.00\">value = [0, 1]</text>\n</g>\n<!-- 28&#45;&gt;30 -->\n<g id=\"edge30\" class=\"edge\">\n<title>28&#45;&gt;30</title>\n<path fill=\"none\" stroke=\"black\" d=\"M1204.8,-296.88C1211.45,-285.78 1218.87,-273.37 1225.56,-262.18\"/>\n<polygon fill=\"black\" stroke=\"black\" points=\"1228.61,-263.9 1230.74,-253.52 1222.6,-260.31 1228.61,-263.9\"/>\n</g>\n<!-- 33 -->\n<g id=\"node34\" class=\"node\">\n<title>33</title>\n<polygon fill=\"#399de5\" stroke=\"black\" points=\"1409,-461.5 1299,-461.5 1299,-408.5 1409,-408.5 1409,-461.5\"/>\n<text text-anchor=\"middle\" x=\"1354\" y=\"-446.3\" font-family=\"Helvetica,sans-Serif\" font-size=\"14.00\">entropy = 0.0</text>\n<text text-anchor=\"middle\" x=\"1354\" y=\"-431.3\" font-family=\"Helvetica,sans-Serif\" font-size=\"14.00\">samples = 540</text>\n<text text-anchor=\"middle\" x=\"1354\" y=\"-416.3\" font-family=\"Helvetica,sans-Serif\" font-size=\"14.00\">value = [0, 540]</text>\n</g>\n<!-- 32&#45;&gt;33 -->\n<g id=\"edge33\" class=\"edge\">\n<title>32&#45;&gt;33</title>\n<path fill=\"none\" stroke=\"black\" d=\"M1354,-504.88C1354,-494.33 1354,-482.6 1354,-471.85\"/>\n<polygon fill=\"black\" stroke=\"black\" points=\"1357.5,-471.52 1354,-461.52 1350.5,-471.52 1357.5,-471.52\"/>\n</g>\n<!-- 34 -->\n<g id=\"node35\" class=\"node\">\n<title>34</title>\n<polygon fill=\"#e6853f\" stroke=\"black\" points=\"1691,-469 1427,-469 1427,-401 1691,-401 1691,-469\"/>\n<text text-anchor=\"middle\" x=\"1559\" y=\"-453.8\" font-family=\"Helvetica,sans-Serif\" font-size=\"14.00\">ratio_to_median_purchase_price &lt;= 1.82</text>\n<text text-anchor=\"middle\" x=\"1559\" y=\"-438.8\" font-family=\"Helvetica,sans-Serif\" font-size=\"14.00\">entropy = 0.203</text>\n<text text-anchor=\"middle\" x=\"1559\" y=\"-423.8\" font-family=\"Helvetica,sans-Serif\" font-size=\"14.00\">samples = 63</text>\n<text text-anchor=\"middle\" x=\"1559\" y=\"-408.8\" font-family=\"Helvetica,sans-Serif\" font-size=\"14.00\">value = [61, 2]</text>\n</g>\n<!-- 32&#45;&gt;34 -->\n<g id=\"edge34\" class=\"edge\">\n<title>32&#45;&gt;34</title>\n<path fill=\"none\" stroke=\"black\" d=\"M1420.56,-504.88C1440.62,-494.9 1462.79,-483.87 1483.39,-473.62\"/>\n<polygon fill=\"black\" stroke=\"black\" points=\"1485.03,-476.71 1492.43,-469.12 1481.91,-470.45 1485.03,-476.71\"/>\n</g>\n<!-- 35 -->\n<g id=\"node36\" class=\"node\">\n<title>35</title>\n<polygon fill=\"#e58139\" stroke=\"black\" points=\"1576,-357.5 1474,-357.5 1474,-304.5 1576,-304.5 1576,-357.5\"/>\n<text text-anchor=\"middle\" x=\"1525\" y=\"-342.3\" font-family=\"Helvetica,sans-Serif\" font-size=\"14.00\">entropy = 0.0</text>\n<text text-anchor=\"middle\" x=\"1525\" y=\"-327.3\" font-family=\"Helvetica,sans-Serif\" font-size=\"14.00\">samples = 47</text>\n<text text-anchor=\"middle\" x=\"1525\" y=\"-312.3\" font-family=\"Helvetica,sans-Serif\" font-size=\"14.00\">value = [47, 0]</text>\n</g>\n<!-- 34&#45;&gt;35 -->\n<g id=\"edge35\" class=\"edge\">\n<title>34&#45;&gt;35</title>\n<path fill=\"none\" stroke=\"black\" d=\"M1547.96,-400.88C1544.37,-390.11 1540.37,-378.11 1536.73,-367.18\"/>\n<polygon fill=\"black\" stroke=\"black\" points=\"1539.99,-365.9 1533.51,-357.52 1533.35,-368.11 1539.99,-365.9\"/>\n</g>\n<!-- 36 -->\n<g id=\"node37\" class=\"node\">\n<title>36</title>\n<polygon fill=\"#e99355\" stroke=\"black\" points=\"1866,-365 1594,-365 1594,-297 1866,-297 1866,-365\"/>\n<text text-anchor=\"middle\" x=\"1730\" y=\"-349.8\" font-family=\"Helvetica,sans-Serif\" font-size=\"14.00\">ratio_to_median_purchase_price &lt;= 2.023</text>\n<text text-anchor=\"middle\" x=\"1730\" y=\"-334.8\" font-family=\"Helvetica,sans-Serif\" font-size=\"14.00\">entropy = 0.544</text>\n<text text-anchor=\"middle\" x=\"1730\" y=\"-319.8\" font-family=\"Helvetica,sans-Serif\" font-size=\"14.00\">samples = 16</text>\n<text text-anchor=\"middle\" x=\"1730\" y=\"-304.8\" font-family=\"Helvetica,sans-Serif\" font-size=\"14.00\">value = [14, 2]</text>\n</g>\n<!-- 34&#45;&gt;36 -->\n<g id=\"edge36\" class=\"edge\">\n<title>34&#45;&gt;36</title>\n<path fill=\"none\" stroke=\"black\" d=\"M1614.52,-400.88C1630.88,-391.12 1648.92,-380.37 1665.77,-370.31\"/>\n<polygon fill=\"black\" stroke=\"black\" points=\"1667.67,-373.25 1674.47,-365.12 1664.09,-367.24 1667.67,-373.25\"/>\n</g>\n<!-- 37 -->\n<g id=\"node38\" class=\"node\">\n<title>37</title>\n<polygon fill=\"#ffffff\" stroke=\"black\" points=\"1729,-261 1593,-261 1593,-193 1729,-193 1729,-261\"/>\n<text text-anchor=\"middle\" x=\"1661\" y=\"-245.8\" font-family=\"Helvetica,sans-Serif\" font-size=\"14.00\">used_chip &lt;= 0.314</text>\n<text text-anchor=\"middle\" x=\"1661\" y=\"-230.8\" font-family=\"Helvetica,sans-Serif\" font-size=\"14.00\">entropy = 1.0</text>\n<text text-anchor=\"middle\" x=\"1661\" y=\"-215.8\" font-family=\"Helvetica,sans-Serif\" font-size=\"14.00\">samples = 4</text>\n<text text-anchor=\"middle\" x=\"1661\" y=\"-200.8\" font-family=\"Helvetica,sans-Serif\" font-size=\"14.00\">value = [2, 2]</text>\n</g>\n<!-- 36&#45;&gt;37 -->\n<g id=\"edge37\" class=\"edge\">\n<title>36&#45;&gt;37</title>\n<path fill=\"none\" stroke=\"black\" d=\"M1707.6,-296.88C1701.75,-288.24 1695.38,-278.82 1689.27,-269.79\"/>\n<polygon fill=\"black\" stroke=\"black\" points=\"1692.03,-267.62 1683.53,-261.3 1686.23,-271.54 1692.03,-267.62\"/>\n</g>\n<!-- 42 -->\n<g id=\"node43\" class=\"node\">\n<title>42</title>\n<polygon fill=\"#e58139\" stroke=\"black\" points=\"1849,-253.5 1747,-253.5 1747,-200.5 1849,-200.5 1849,-253.5\"/>\n<text text-anchor=\"middle\" x=\"1798\" y=\"-238.3\" font-family=\"Helvetica,sans-Serif\" font-size=\"14.00\">entropy = 0.0</text>\n<text text-anchor=\"middle\" x=\"1798\" y=\"-223.3\" font-family=\"Helvetica,sans-Serif\" font-size=\"14.00\">samples = 12</text>\n<text text-anchor=\"middle\" x=\"1798\" y=\"-208.3\" font-family=\"Helvetica,sans-Serif\" font-size=\"14.00\">value = [12, 0]</text>\n</g>\n<!-- 36&#45;&gt;42 -->\n<g id=\"edge42\" class=\"edge\">\n<title>36&#45;&gt;42</title>\n<path fill=\"none\" stroke=\"black\" d=\"M1752.08,-296.88C1759.56,-285.67 1767.92,-273.13 1775.43,-261.85\"/>\n<polygon fill=\"black\" stroke=\"black\" points=\"1778.35,-263.78 1780.99,-253.52 1772.53,-259.9 1778.35,-263.78\"/>\n</g>\n<!-- 38 -->\n<g id=\"node39\" class=\"node\">\n<title>38</title>\n<polygon fill=\"#9ccef2\" stroke=\"black\" points=\"1694,-157 1428,-157 1428,-89 1694,-89 1694,-157\"/>\n<text text-anchor=\"middle\" x=\"1561\" y=\"-141.8\" font-family=\"Helvetica,sans-Serif\" font-size=\"14.00\">distance_from_last_transaction &lt;= &#45;0.191</text>\n<text text-anchor=\"middle\" x=\"1561\" y=\"-126.8\" font-family=\"Helvetica,sans-Serif\" font-size=\"14.00\">entropy = 0.918</text>\n<text text-anchor=\"middle\" x=\"1561\" y=\"-111.8\" font-family=\"Helvetica,sans-Serif\" font-size=\"14.00\">samples = 3</text>\n<text text-anchor=\"middle\" x=\"1561\" y=\"-96.8\" font-family=\"Helvetica,sans-Serif\" font-size=\"14.00\">value = [1, 2]</text>\n</g>\n<!-- 37&#45;&gt;38 -->\n<g id=\"edge38\" class=\"edge\">\n<title>37&#45;&gt;38</title>\n<path fill=\"none\" stroke=\"black\" d=\"M1628.53,-192.88C1619.71,-183.89 1610.06,-174.04 1600.88,-164.68\"/>\n<polygon fill=\"black\" stroke=\"black\" points=\"1603.15,-161.99 1593.65,-157.3 1598.15,-166.89 1603.15,-161.99\"/>\n</g>\n<!-- 41 -->\n<g id=\"node42\" class=\"node\">\n<title>41</title>\n<polygon fill=\"#e58139\" stroke=\"black\" points=\"1808,-149.5 1712,-149.5 1712,-96.5 1808,-96.5 1808,-149.5\"/>\n<text text-anchor=\"middle\" x=\"1760\" y=\"-134.3\" font-family=\"Helvetica,sans-Serif\" font-size=\"14.00\">entropy = 0.0</text>\n<text text-anchor=\"middle\" x=\"1760\" y=\"-119.3\" font-family=\"Helvetica,sans-Serif\" font-size=\"14.00\">samples = 1</text>\n<text text-anchor=\"middle\" x=\"1760\" y=\"-104.3\" font-family=\"Helvetica,sans-Serif\" font-size=\"14.00\">value = [1, 0]</text>\n</g>\n<!-- 37&#45;&gt;41 -->\n<g id=\"edge41\" class=\"edge\">\n<title>37&#45;&gt;41</title>\n<path fill=\"none\" stroke=\"black\" d=\"M1693.14,-192.88C1704.35,-181.34 1716.92,-168.39 1728.11,-156.86\"/>\n<polygon fill=\"black\" stroke=\"black\" points=\"1730.78,-159.13 1735.23,-149.52 1725.75,-154.26 1730.78,-159.13\"/>\n</g>\n<!-- 39 -->\n<g id=\"node40\" class=\"node\">\n<title>39</title>\n<polygon fill=\"#e58139\" stroke=\"black\" points=\"1552,-53 1456,-53 1456,0 1552,0 1552,-53\"/>\n<text text-anchor=\"middle\" x=\"1504\" y=\"-37.8\" font-family=\"Helvetica,sans-Serif\" font-size=\"14.00\">entropy = 0.0</text>\n<text text-anchor=\"middle\" x=\"1504\" y=\"-22.8\" font-family=\"Helvetica,sans-Serif\" font-size=\"14.00\">samples = 1</text>\n<text text-anchor=\"middle\" x=\"1504\" y=\"-7.8\" font-family=\"Helvetica,sans-Serif\" font-size=\"14.00\">value = [1, 0]</text>\n</g>\n<!-- 38&#45;&gt;39 -->\n<g id=\"edge39\" class=\"edge\">\n<title>38&#45;&gt;39</title>\n<path fill=\"none\" stroke=\"black\" d=\"M1541.06,-88.95C1535.77,-80.17 1530.03,-70.66 1524.7,-61.82\"/>\n<polygon fill=\"black\" stroke=\"black\" points=\"1527.69,-59.99 1519.52,-53.24 1521.69,-63.61 1527.69,-59.99\"/>\n</g>\n<!-- 40 -->\n<g id=\"node41\" class=\"node\">\n<title>40</title>\n<polygon fill=\"#399de5\" stroke=\"black\" points=\"1666,-53 1570,-53 1570,0 1666,0 1666,-53\"/>\n<text text-anchor=\"middle\" x=\"1618\" y=\"-37.8\" font-family=\"Helvetica,sans-Serif\" font-size=\"14.00\">entropy = 0.0</text>\n<text text-anchor=\"middle\" x=\"1618\" y=\"-22.8\" font-family=\"Helvetica,sans-Serif\" font-size=\"14.00\">samples = 2</text>\n<text text-anchor=\"middle\" x=\"1618\" y=\"-7.8\" font-family=\"Helvetica,sans-Serif\" font-size=\"14.00\">value = [0, 2]</text>\n</g>\n<!-- 38&#45;&gt;40 -->\n<g id=\"edge40\" class=\"edge\">\n<title>38&#45;&gt;40</title>\n<path fill=\"none\" stroke=\"black\" d=\"M1580.94,-88.95C1586.23,-80.17 1591.97,-70.66 1597.3,-61.82\"/>\n<polygon fill=\"black\" stroke=\"black\" points=\"1600.31,-63.61 1602.48,-53.24 1594.31,-59.99 1600.31,-63.61\"/>\n</g>\n</g>\n</svg>\n"
          },
          "metadata": {},
          "execution_count": 160
        }
      ]
    },
    {
      "cell_type": "code",
      "source": [
        "clf1 = GaussianNB()\n",
        "clf1.fit(x_train,y_train)"
      ],
      "metadata": {
        "colab": {
          "base_uri": "https://localhost:8080/"
        },
        "id": "u0it8LOeh1mq",
        "outputId": "b869ef4f-2614-4c03-c309-a545e82d1ad2"
      },
      "execution_count": null,
      "outputs": [
        {
          "output_type": "execute_result",
          "data": {
            "text/plain": [
              "GaussianNB()"
            ]
          },
          "metadata": {},
          "execution_count": 165
        }
      ]
    },
    {
      "cell_type": "code",
      "source": [
        "y_pred = clf.predict(x_test)"
      ],
      "metadata": {
        "id": "wtcTTFyxiv-v"
      },
      "execution_count": null,
      "outputs": []
    },
    {
      "cell_type": "code",
      "source": [
        "cm = confusion_matrix(y_test,y_pred)\n",
        "cm"
      ],
      "metadata": {
        "colab": {
          "base_uri": "https://localhost:8080/"
        },
        "id": "RD1cRVqoixs3",
        "outputId": "08e9d34a-1c4c-4da4-842e-4108e02d1fce"
      },
      "execution_count": null,
      "outputs": [
        {
          "output_type": "execute_result",
          "data": {
            "text/plain": [
              "array([[911,  10],\n",
              "       [ 38,  41]])"
            ]
          },
          "metadata": {},
          "execution_count": 167
        }
      ]
    },
    {
      "cell_type": "code",
      "source": [
        "accuracy_score(y_test, y_pred)"
      ],
      "metadata": {
        "colab": {
          "base_uri": "https://localhost:8080/"
        },
        "id": "luepV5dTi4ve",
        "outputId": "52150ddc-f692-459d-c3fe-4e04a8c89347"
      },
      "execution_count": null,
      "outputs": [
        {
          "output_type": "execute_result",
          "data": {
            "text/plain": [
              "0.952"
            ]
          },
          "metadata": {},
          "execution_count": 168
        }
      ]
    }
  ]
}